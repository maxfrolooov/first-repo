{
 "cells": [
  {
   "cell_type": "markdown",
   "metadata": {
    "id": "Z6L283dfsmZ-",
    "toc": true
   },
   "source": [
    "<h1>Table of Contents<span class=\"tocSkip\"></span></h1>\n",
    "<div class=\"toc\"><ul class=\"toc-item\"><li><span><a href=\"#-Homework-1-(Topics-1-4:-Data-Structures,-Indexing,-Cleaning-Data,-Math)\" data-toc-modified-id=\"-Homework-1-(Topics-1-4:-Data-Structures,-Indexing,-Cleaning-Data,-Math)-1\"><span class=\"toc-item-num\">1&nbsp;&nbsp;</span><center> Homework 1 (Topics 1-4: Data Structures, Indexing, Cleaning Data, Math)</center></a></span><ul class=\"toc-item\"><li><ul class=\"toc-item\"><li><ul class=\"toc-item\"><li><span><a href=\"#Task-1.\" data-toc-modified-id=\"Task-1.-1.0.0.1\"><span class=\"toc-item-num\">1.0.0.1&nbsp;&nbsp;</span>Task 1.</a></span></li><li><span><a href=\"#Варианты-ответов:\" data-toc-modified-id=\"Варианты-ответов:-1.0.0.2\"><span class=\"toc-item-num\">1.0.0.2&nbsp;&nbsp;</span>Варианты ответов:</a></span></li><li><span><a href=\"#Task-2.\" data-toc-modified-id=\"Task-2.-1.0.0.3\"><span class=\"toc-item-num\">1.0.0.3&nbsp;&nbsp;</span>Task 2.</a></span></li><li><span><a href=\"#Вопросы:\" data-toc-modified-id=\"Вопросы:-1.0.0.4\"><span class=\"toc-item-num\">1.0.0.4&nbsp;&nbsp;</span>Вопросы:</a></span></li><li><span><a href=\"#Task-3.\" data-toc-modified-id=\"Task-3.-1.0.0.5\"><span class=\"toc-item-num\">1.0.0.5&nbsp;&nbsp;</span>Task 3.</a></span></li><li><span><a href=\"#Выберите-все-верные-пункты:\" data-toc-modified-id=\"Выберите-все-верные-пункты:-1.0.0.6\"><span class=\"toc-item-num\">1.0.0.6&nbsp;&nbsp;</span>Выберите все верные пункты:</a></span></li><li><span><a href=\"#Task-4.\" data-toc-modified-id=\"Task-4.-1.0.0.7\"><span class=\"toc-item-num\">1.0.0.7&nbsp;&nbsp;</span>Task 4.</a></span></li><li><span><a href=\"#Пояснения:\" data-toc-modified-id=\"Пояснения:-1.0.0.8\"><span class=\"toc-item-num\">1.0.0.8&nbsp;&nbsp;</span>Пояснения:</a></span></li></ul></li><li><span><a href=\"#Информация-для-последующих-заданий\" data-toc-modified-id=\"Информация-для-последующих-заданий-1.0.1\"><span class=\"toc-item-num\">1.0.1&nbsp;&nbsp;</span>Информация для последующих заданий</a></span></li></ul></li><li><span><a href=\"#Описание-данных\" data-toc-modified-id=\"Описание-данных-1.1\"><span class=\"toc-item-num\">1.1&nbsp;&nbsp;</span>Описание данных</a></span><ul class=\"toc-item\"><li><span><a href=\"#Таблица-transactions.csv\" data-toc-modified-id=\"Таблица-transactions.csv-1.1.1\"><span class=\"toc-item-num\">1.1.1&nbsp;&nbsp;</span>Таблица <code>transactions.csv</code></a></span></li><li><span><a href=\"#Таблица-gender_train.csv\" data-toc-modified-id=\"Таблица-gender_train.csv-1.1.2\"><span class=\"toc-item-num\">1.1.2&nbsp;&nbsp;</span>Таблица <code>gender_train.csv</code></a></span></li><li><span><a href=\"#Таблица-tr_mcc_codes.csv\" data-toc-modified-id=\"Таблица-tr_mcc_codes.csv-1.1.3\"><span class=\"toc-item-num\">1.1.3&nbsp;&nbsp;</span>Таблица <code>tr_mcc_codes.csv</code></a></span></li><li><span><a href=\"#Таблица-tr_types.csv\" data-toc-modified-id=\"Таблица-tr_types.csv-1.1.4\"><span class=\"toc-item-num\">1.1.4&nbsp;&nbsp;</span>Таблица <code>tr_types.csv</code></a></span><ul class=\"toc-item\"><li><span><a href=\"#Task-5.\" data-toc-modified-id=\"Task-5.-1.1.4.1\"><span class=\"toc-item-num\">1.1.4.1&nbsp;&nbsp;</span>Task 5.</a></span></li><li><span><a href=\"#Task-6.\" data-toc-modified-id=\"Task-6.-1.1.4.2\"><span class=\"toc-item-num\">1.1.4.2&nbsp;&nbsp;</span>Task 6.</a></span></li><li><span><a href=\"#Выберите-все-верные-пункты:\" data-toc-modified-id=\"Выберите-все-верные-пункты:-1.1.4.3\"><span class=\"toc-item-num\">1.1.4.3&nbsp;&nbsp;</span>Выберите все верные пункты:</a></span></li><li><span><a href=\"#Task-7.\" data-toc-modified-id=\"Task-7.-1.1.4.4\"><span class=\"toc-item-num\">1.1.4.4&nbsp;&nbsp;</span>Task 7.</a></span></li><li><span><a href=\"#Выберите-все-верные-пункты:\" data-toc-modified-id=\"Выберите-все-верные-пункты:-1.1.4.5\"><span class=\"toc-item-num\">1.1.4.5&nbsp;&nbsp;</span>Выберите все верные пункты:</a></span></li><li><span><a href=\"#Task-8.\" data-toc-modified-id=\"Task-8.-1.1.4.6\"><span class=\"toc-item-num\">1.1.4.6&nbsp;&nbsp;</span>Task 8.</a></span></li></ul></li></ul></li></ul></li></ul></div>"
   ]
  },
  {
   "cell_type": "markdown",
   "metadata": {
    "id": "jlJxolI6smaC"
   },
   "source": [
    "# <center> Homework 1 (Topics 1-4: Data Structures, Indexing, Cleaning Data, Math)"
   ]
  },
  {
   "cell_type": "code",
   "execution_count": 1,
   "metadata": {
    "ExecuteTime": {
     "end_time": "2020-04-23T10:16:05.965275Z",
     "start_time": "2020-04-23T10:16:05.312704Z"
    },
    "id": "KfcPaF0-smaD"
   },
   "outputs": [],
   "source": [
    "import pandas as pd\n",
    "import numpy as np"
   ]
  },
  {
   "cell_type": "markdown",
   "metadata": {
    "id": "4rQ7LxoQsmaE"
   },
   "source": [
    "#### Task 1. \n",
    "Задание:\n",
    "\n",
    "1. Создайте Series из последовательности 15 значений, равномерно разбивающих отрезок [0, 20] (воспользуйтесь функцией linspace)\n",
    "2. Определите отношение элементов полученной серии к их предыдущим элементам (\\*). \n",
    "3. В результате необходимо получить среднее полученного вектора, оставив в нём только те значения, которые не более чем 1.5 (\\**). \n",
    "\n",
    "Выберите из ответов тот, который максимально близок к полученному (c точки зрения абсолютной разницы).\n",
    "\n",
    "#### Варианты ответов:\n",
    "    - 1) 1.24\n",
    "    - 2) 1.18 \n",
    "    - 3) 0.71\n",
    "    - 4) 1.13\n",
    "\n",
    "\n",
    "##### Пояснения:\n",
    "(\\*) Если было бы необходимо найти последовательность из 3-х значений,  \n",
    "равномерно разбивающих отрезок [0,1], то это были бы значения [0, 0.5, 1]. \n",
    "\n",
    "(\\**) Если был бы дан список элементов a = [1,2,3,12], отношения элементов к предыдущим будут равны [NaN, 2, 1.5, 4].  \n",
    "А на последнем этапе в таком примере останется только [1.5] и среднее значение будет также 1.5."
   ]
  },
  {
   "cell_type": "code",
   "execution_count": 21,
   "metadata": {
    "ExecuteTime": {
     "end_time": "2020-04-23T10:13:26.017568Z",
     "start_time": "2020-04-23T10:13:26.014793Z"
    },
    "colab": {
     "base_uri": "https://localhost:8080/"
    },
    "id": "lbe2IswpsmaE",
    "outputId": "10c3195f-614d-435f-992c-a6a0fc54ad4f"
   },
   "outputs": [
    {
     "data": {
      "text/plain": [
       "0          NaN\n",
       "1          inf\n",
       "2     2.000000\n",
       "3     1.500000\n",
       "4     1.333333\n",
       "5     1.250000\n",
       "6     1.200000\n",
       "7     1.166667\n",
       "8     1.142857\n",
       "9     1.125000\n",
       "10    1.111111\n",
       "11    1.100000\n",
       "12    1.090909\n",
       "13    1.083333\n",
       "14    1.076923\n",
       "dtype: float64"
      ]
     },
     "execution_count": 21,
     "metadata": {},
     "output_type": "execute_result"
    }
   ],
   "source": [
    "### Type your code here\n",
    "# Task 1\n",
    "\n",
    "s1 = pd.Series(data = np.linspace(0, 20, 15))\n",
    "\n",
    "s2 = s1.divide(s1.shift(1))\n",
    "\n",
    "#print(\"Среднее вектора отношений: \", s2[s2 <= 1.5].mean())"
   ]
  },
  {
   "cell_type": "markdown",
   "metadata": {
    "id": "ZeXMoM69smaF"
   },
   "source": [
    "#### Task 2. \n",
    "Выберите все верные ответы касательно следующих 3-х Series:\n",
    "    - pd.Series('abcde'); (1) \n",
    "    - pd.Series(['abcde']); (2) \n",
    "    - pd.Series(list('abcde')); (3)\n",
    "    - pd.Series(\"abcde\"); (4)\n",
    "    \n",
    "##### Пояснения:\n",
    "(\\*)\n",
    "- функция list: в строке каждый символ - это отдельный элемент для list\n",
    "- квадратные скобки: в квадратных скобках списку передается множество элементов по отдельности через запятую\n",
    "\n",
    "\n",
    "#### Вопросы:\n",
    "    - 1) Серия (1) совпадает с серией (2), так как в каждом из случаев серия создаётся из списка строк\n",
    "    - 2) Серия (2) совпадает с серией (3), так как в каждом из случаев серия создаётся из списка символов \n",
    "    - 3) Серия (1) не совпадает с серией (4), так как в (4) используются двойные кавычки \"\" вместо одинарных '' "
   ]
  },
  {
   "cell_type": "code",
   "execution_count": null,
   "metadata": {
    "colab": {
     "base_uri": "https://localhost:8080/"
    },
    "id": "WlMnfl6L-Izq",
    "outputId": "c4148204-f0a7-4446-9d17-25da00d76a6c"
   },
   "outputs": [
    {
     "name": "stdout",
     "output_type": "stream",
     "text": [
      "Серия 2:  0    abcde\n",
      "dtype: object\n",
      "Серия 3:  0    a\n",
      "1    b\n",
      "2    c\n",
      "3    d\n",
      "4    e\n",
      "dtype: object\n",
      "Серия 4:  0    abcde\n",
      "dtype: object\n",
      "Серия 1:  0    abcde\n",
      "dtype: object\n",
      "1) ответ - верный\n"
     ]
    }
   ],
   "source": [
    "print(\"Серия 2: \", pd.Series(['abcde']))\n",
    "print(\"Серия 3: \", pd.Series(list('abcde')))\n",
    "print(\"Серия 4: \", pd.Series(\"abcde\"))\n",
    "print(\"Серия 1: \", pd.Series('abcde'))\n",
    "\n",
    "print(\"1) ответ - верный\")"
   ]
  },
  {
   "cell_type": "markdown",
   "metadata": {
    "id": "nwHhpTW-smaF"
   },
   "source": [
    "#### Task 3. \n",
    "\n",
    "По клиенту получены зашумленные данные (объект s типа Series) по его транзакциям. \n",
    "\n",
    "Для заданного ниже объекта s проделайте следующее:\n",
    "1. Создайте новый Series, значения которого совпадают со значениями s, а индексы - целочисленные значения от 2 до 12, не включая 12. \n",
    "2. Выберите из s элементы с индексами 3 и 5, после чего просуммируйте их, сохранив результат (1). \n",
    "3. Выберите из s только целочисленные элементы и вычислите их дисперсию (2). (\\*)\n",
    "\n",
    "Все полученные результаты округлите до 2-х знаков после запятой.\n",
    "\n",
    "#### Выберите все верные пункты:\n",
    "    - 1) Ответ (1) - 642.52\n",
    "    - 2) Ответ (1) - 91.78\n",
    "    - 3) Ответ (1) - не может быть определён\n",
    "    - 4) Ответ (2) - 57591.19\n",
    "    - 5) Ответ (2) - 210.12\n",
    "    - 6) Ответ (2) - не может быть определён\n",
    "\n",
    "##### Пояснения:\n",
    "(\\*) Целочисленные значения - значения, имеющие тип int.\n",
    "- Дисперсия рассчитывается с помощью функции из библиотеки numpy: np.var( , ddof=0) или встроенной в python функции: .var(ddof=1)"
   ]
  },
  {
   "cell_type": "code",
   "execution_count": 32,
   "metadata": {
    "ExecuteTime": {
     "end_time": "2020-04-23T10:17:18.795695Z",
     "start_time": "2020-04-23T10:17:18.791449Z"
    },
    "colab": {
     "base_uri": "https://localhost:8080/"
    },
    "id": "-tvZobwtsmaG",
    "outputId": "7a1e9891-e6bd-48da-a95d-e7016df9042d"
   },
   "outputs": [
    {
     "name": "stdout",
     "output_type": "stream",
     "text": [
      "2         1\n",
      "3         2\n",
      "4       3.1\n",
      "5       hi!\n",
      "6         5\n",
      "7      -512\n",
      "8     12.42\n",
      "9      sber\n",
      "10     10.1\n",
      "11       98\n",
      "dtype: object\n",
      "Ответ 1 - не может быть определён\n",
      "57591.1875\n",
      "Ответ 2 -  57591.19\n"
     ]
    }
   ],
   "source": [
    "array_s = ['1', 2, 3.1, 'hi!', 5, -512, 12.42, 'sber', 10.10, 98]\n",
    "s = pd.Series(data=array_s, index=range(6, 26, 2))\n",
    "### Type your code here\n",
    "\n",
    "# 1\n",
    "#s3 = pd.Series(data = array_s, index = range(2, 12))\n",
    "s3 = s.copy()\n",
    "s3.index = range(2, 12)\n",
    "print(s3)\n",
    "# 2\n",
    "try:\n",
    "    print(round(float(s3[3]) + float(s3[5]), 2))\n",
    "except ValueError:\n",
    "    print(\"Ответ 1 - не может быть определён\")\n",
    "# 3\n",
    "try:\n",
    "    var_s3 = s3[s3.map(lambda x: isinstance(x, int))].var(ddof=0)\n",
    "    print(var_s3)\n",
    "    print(\"Ответ 2 - \", round(var_s3, 2))\n",
    "except ValueError:\n",
    "    print(\"Ответ 2 - не может быть определён\")\n"
   ]
  },
  {
   "cell_type": "markdown",
   "metadata": {
    "id": "SJzz9NMDsmaG"
   },
   "source": [
    "#### Task 4. \n",
    "1. Сгенерируйте Series из 100 значений нормально распределённой СВ (np.random.normal с дефолтными параметрами - нулевым средним и единичной дисперсией).\n",
    "2. Возведите каждое значение серии в 3 степень, а значения индекса увеличьте в 3 раза. \n",
    "3. Ответьте на следующие вопросы через запятую (без пробелов) (\\*)\n",
    "    - 1) Выведите сумму элементов, строго меньших 2.6, имеющих нечётные значения индекса. \n",
    "    - 2) Выведите количество значений серии меньше нуля.\n",
    "\n",
    "#### Пояснения:\n",
    "(\\*) Если получились ответы 3, 4.32, то в форму необходимо внести их в виде \"3,4.32\". То есть вещественные числа необходимо разделять точками. Не забудьте про фиксированный seed (его менять не нужно)!\n",
    " - Определенное значение seed нужно, чтобы ответы у всех выполняющих\n",
    "это задание были одинаковые и их можно было проверить (так как генерируются\n",
    "одинаковые series).\n",
    " - Следует внимательнее использовать [ ] для выбора данных по нескольким условиям:\n",
    "либо выбирать данные последовательно, либо сразу по нескольким условиям,\n",
    "но через оператор &. Отличие оператора and от оператора &: and - выводит\n",
    "последнее проверенное значение, & - выводит пересечение значений.\n",
    "Пример: s[ _  &  _ ].sum() "
   ]
  },
  {
   "cell_type": "code",
   "execution_count": 40,
   "metadata": {
    "ExecuteTime": {
     "end_time": "2020-04-23T10:18:35.713300Z",
     "start_time": "2020-04-23T10:18:35.710616Z"
    },
    "colab": {
     "base_uri": "https://localhost:8080/"
    },
    "id": "CF38yInpsmaH",
    "outputId": "13132c54-7f75-4070-de14-2aa223dde0bb"
   },
   "outputs": [
    {
     "name": "stdout",
     "output_type": "stream",
     "text": [
      "0    -0.045698\n",
      "1     0.003271\n",
      "2     0.980718\n",
      "3     6.219024\n",
      "4    -0.411874\n",
      "        ...   \n",
      "95    0.858176\n",
      "96    0.400829\n",
      "97   -0.405199\n",
      "98   -2.606764\n",
      "99    0.000143\n",
      "Length: 100, dtype: float64\n",
      "-15.15,51\n"
     ]
    }
   ],
   "source": [
    "np.random.seed(242)\n",
    "### Type your code here\n",
    "s = pd.Series(np.random.normal(0, 1, size = 100))\n",
    "s = s**3\n",
    "print(s)\n",
    "s.index = [i * 3 for i in range(100)]\n",
    "sum1 = s[(s.index % 2 != 0) & (s < 2.6)].sum()\n",
    "sum2 = s[s < 0].count()\n",
    "\n",
    "print(round(sum1,2), sum2, sep=\",\")\n",
    "\n"
   ]
  },
  {
   "cell_type": "markdown",
   "metadata": {
    "id": "ynKtDzvWsmaH"
   },
   "source": [
    "### Информация для последующих заданий\n",
    "- Для всех последующих заданий будем использовать обезличенные транзакционные банковские данные. Для этого считайте в переменные tr_mcc_codes, tr_types, transactions и gender_train из одноимённых таблиц из папки data. Для таблицы transactions используйте только первые n=1000000 строк. Обратите внимание на разделители внутри каждого из файлов - они могут различаться!"
   ]
  },
  {
   "cell_type": "code",
   "execution_count": 44,
   "metadata": {},
   "outputs": [],
   "source": [
    "transactions = pd.read_csv('transactions.csv', sep = ',', nrows = 1000000)\n",
    "gender_train = pd.read_csv('gender_train.csv', sep = ',')\n",
    "tr_mcc_codes = pd.read_csv('tr_mcc_codes.csv', sep = ';')\n",
    "tr_types = pd.read_csv('tr_types.csv', sep = ';', encoding = 'UTF-8')"
   ]
  },
  {
   "cell_type": "markdown",
   "metadata": {
    "id": "ggW_cQ09smaH"
   },
   "source": [
    "## Описание данных\n",
    "### Таблица ```transactions.csv```\n",
    "##### Описание\n",
    "Таблица содержит историю транзакций клиентов банка за один год и три месяца.\n",
    "\n",
    "##### Формат данных\n",
    "\n",
    "```\n",
    "customer_id,tr_datetime,mcc_code,tr_type,amount,term_id\n",
    "111111,15 01:40:52,1111,1000,-5224,111111\n",
    "111112,15 15:18:32,3333,2000,-100,11122233\n",
    "...\n",
    "```\n",
    "##### Описание полей\n",
    "\n",
    " - ```customer_id``` — идентификатор клиента;\n",
    " - ```tr_datetime``` — день и время совершения транзакции (дни нумеруются с начала данных);\n",
    " - ```mcc_code``` — mcc-код транзакции;\n",
    " - ```tr_type``` — тип транзакции;\n",
    " - ```amount``` — сумма транзакции в условных единицах со знаком; ```+``` — начисление средств клиенту (приходная транзакция), ```-``` — списание средств (расходная транзакция);\n",
    " - ```term_id``` — идентификатор терминала;\n",
    "\n",
    "\n",
    "### Таблица ```gender_train.csv```\n",
    "\n",
    "##### Описание\n",
    "Данная таблица содержит информацию по полу для части клиентов, для которых он известен. Для остальных клиентов пол неизвестен.\n",
    "\n",
    "##### Формат данных\n",
    "```\n",
    "customer_id,gender\n",
    "111111,0\n",
    "111112,1\n",
    "...\n",
    "```\n",
    "\n",
    "##### Описание полей\n",
    " - ```customer_id``` — идентификатор клиента;\n",
    " - ```gender``` — пол клиента;\n",
    "\n",
    "### Таблица ```tr_mcc_codes.csv```\n",
    "\n",
    "##### Описание\n",
    "Данная таблица содержит описание mcc-кодов транзакций.\n",
    "\n",
    "##### Формат данных\n",
    "```\n",
    "mcc_code;mcc_description\n",
    "1000;словесное описание mcc-кода 1000\n",
    "2000;словесное описание mcc-кода 2000\n",
    "...\n",
    "```\n",
    "\n",
    "##### Описание полей\n",
    " - ```mcc_code``` – mcc-код транзакции;\n",
    " - ```mcc_description``` — описание mcc-кода транзакции.\n",
    "\n",
    "### Таблица ```tr_types.csv```\n",
    "\n",
    "##### Описание\n",
    "Данная таблица содержит описание типов транзакций.\n",
    "\n",
    "##### Формат данных\n",
    "```\n",
    "tr_type;tr_description\n",
    "1000;словесное описание типа транзакции 1000\n",
    "2000;словесное описание типа транзакции 2000\n",
    "...\n",
    "```\n",
    "\n",
    "##### Описание полей\n",
    " - ```tr_type``` – тип транзакции;\n",
    " - ```tr_description``` — описание типа транзакции;"
   ]
  },
  {
   "cell_type": "markdown",
   "metadata": {
    "id": "5LjSiHVJsmaI"
   },
   "source": [
    "#### Task 5.\n",
    "1. В tr_types выберите произвольные 100 строк с помощью метода sample (указав при этом random_seed равный 242)\n",
    "2. В полученной на предыдущем этапе подвыборке найдите долю наблюдений (стобец tr_description), в которой содержится подстрока 'плата' (в любом регистре). (\\*)\n",
    "\n",
    "Выведите ответ в виде вещественного числа, округлённого до двух знаков после запятой, отделив дробную часть точкой в формате \"123.45\"\n",
    "\n",
    "##### Пояснения:\n",
    "(\\*) Строки \"ПлатА за аренду\", \"ПлатАза аренду\", \"ПЛАТА\" удовлетворяют условию, так как будучи переведёнными в нижний регистр содержат подстроку \"плата\"."
   ]
  },
  {
   "cell_type": "code",
   "execution_count": 49,
   "metadata": {
    "ExecuteTime": {
     "end_time": "2020-04-23T10:19:45.872766Z",
     "start_time": "2020-04-23T10:19:45.870317Z"
    },
    "colab": {
     "base_uri": "https://localhost:8080/"
    },
    "id": "qxrMrgBesmaI",
    "outputId": "68140c07-466e-4ee9-e12e-701f156554dd",
    "scrolled": true
   },
   "outputs": [
    {
     "name": "stdout",
     "output_type": "stream",
     "text": [
      "0.26\n"
     ]
    }
   ],
   "source": [
    "### Type your code here\n",
    "tr_types_100 = tr_types.sample(100, random_state=242)\n",
    "\n",
    "print(tr_types_100.loc[tr_types.tr_description.str.lower().str.contains(\"плата\")].count()[0]/len(tr_types_100))"
   ]
  },
  {
   "cell_type": "markdown",
   "metadata": {
    "id": "MKEO4PEKsmaI"
   },
   "source": [
    "#### Task 6. \n",
    "1. Для поля tr_type датафрейма transactions посчитайте частоту встречаемости всех типов транзакций tr_type в transactions.\n",
    "2. Из перечисленных вариантов выберите те, которые попали в топ-5 транзакций по частоте встречаемости.\n",
    "\n",
    "#### Выберите все верные пункты:\n",
    "    - 1) Выдача наличных в АТМ Сбербанк России\n",
    "    - 2) Комиссия за обслуживание ссудного счета\n",
    "    - 3) Списание по требованию\t\n",
    "    - 4) Оплата услуги. Банкоматы СБ РФ\n",
    "    - 5) Погашение кредита (в пределах одного филиала)\n",
    "    - 6) Покупка. POS ТУ СБ РФ"
   ]
  },
  {
   "cell_type": "code",
   "execution_count": 52,
   "metadata": {
    "ExecuteTime": {
     "end_time": "2020-04-23T10:20:31.273965Z",
     "start_time": "2020-04-23T10:20:31.271483Z"
    },
    "colab": {
     "base_uri": "https://localhost:8080/"
    },
    "id": "aoavTccdsmaI",
    "outputId": "b817757f-9be8-48d9-9530-f0f821d491d0"
   },
   "outputs": [],
   "source": [
    "### Type your code here\n",
    "#transactions[\"tr_type\"].groupby(transactions[\"tr_type\"]).count().nlargest()"
   ]
  },
  {
   "cell_type": "code",
   "execution_count": 77,
   "metadata": {},
   "outputs": [
    {
     "data": {
      "text/plain": [
       "1010    231117\n",
       "2010    151166\n",
       "7070    149006\n",
       "1110    137658\n",
       "1030    118975\n",
       "Name: tr_type, dtype: int64"
      ]
     },
     "execution_count": 77,
     "metadata": {},
     "output_type": "execute_result"
    }
   ],
   "source": [
    "tr_type_counts = transactions[\"tr_type\"].value_counts().sort_values(ascending=False).head(5)\n",
    "tr_type_counts"
   ]
  },
  {
   "cell_type": "code",
   "execution_count": 61,
   "metadata": {
    "colab": {
     "base_uri": "https://localhost:8080/",
     "height": 202
    },
    "id": "tl1rNKox1j3n",
    "outputId": "0e96ce85-ecbd-494f-967b-fb4d1e4433cf"
   },
   "outputs": [
    {
     "data": {
      "text/html": [
       "<div>\n",
       "<style scoped>\n",
       "    .dataframe tbody tr th:only-of-type {\n",
       "        vertical-align: middle;\n",
       "    }\n",
       "\n",
       "    .dataframe tbody tr th {\n",
       "        vertical-align: top;\n",
       "    }\n",
       "\n",
       "    .dataframe thead th {\n",
       "        text-align: right;\n",
       "    }\n",
       "</style>\n",
       "<table border=\"1\" class=\"dataframe\">\n",
       "  <thead>\n",
       "    <tr style=\"text-align: right;\">\n",
       "      <th></th>\n",
       "      <th>tr_description</th>\n",
       "    </tr>\n",
       "  </thead>\n",
       "  <tbody>\n",
       "    <tr>\n",
       "      <th>1010</th>\n",
       "      <td>Покупка. POS ТУ СБ РФ</td>\n",
       "    </tr>\n",
       "    <tr>\n",
       "      <th>2010</th>\n",
       "      <td>Выдача наличных в АТМ Сбербанк России</td>\n",
       "    </tr>\n",
       "    <tr>\n",
       "      <th>7070</th>\n",
       "      <td>Перевод на карту (с карты) через Мобильный бан...</td>\n",
       "    </tr>\n",
       "    <tr>\n",
       "      <th>1110</th>\n",
       "      <td>Покупка. POS ТУ Россия</td>\n",
       "    </tr>\n",
       "    <tr>\n",
       "      <th>1030</th>\n",
       "      <td>Оплата услуги. Банкоматы СБ РФ</td>\n",
       "    </tr>\n",
       "  </tbody>\n",
       "</table>\n",
       "</div>"
      ],
      "text/plain": [
       "                                         tr_description\n",
       "1010                              Покупка. POS ТУ СБ РФ\n",
       "2010              Выдача наличных в АТМ Сбербанк России\n",
       "7070  Перевод на карту (с карты) через Мобильный бан...\n",
       "1110                             Покупка. POS ТУ Россия\n",
       "1030                     Оплата услуги. Банкоматы СБ РФ"
      ]
     },
     "execution_count": 61,
     "metadata": {},
     "output_type": "execute_result"
    }
   ],
   "source": [
    "#selected_items = [1010, 2010, 7070, 1110, 1030]\n",
    "#tr_types.loc[tr_types.tr_type.isin(tr_type_counts.index)]\n",
    "tr_types = tr_types.set_index([\"tr_type\"])\n",
    "tr_types.loc[tr_type_counts.index]"
   ]
  },
  {
   "cell_type": "code",
   "execution_count": null,
   "metadata": {
    "colab": {
     "base_uri": "https://localhost:8080/"
    },
    "id": "mwczQib53ykM",
    "outputId": "fb15c18f-ec79-4671-f0c4-f28e95333248"
   },
   "outputs": [
    {
     "name": "stdout",
     "output_type": "stream",
     "text": [
      "Ответы к заданию 6: \n",
      "6) Покупка. POS ТУ СБ РФ\n",
      "1) Выдача наличных в АТМ Сбербанк России\n",
      "4) Оплата услуги. Банкоматы СБ РФ\n"
     ]
    }
   ],
   "source": [
    "print(\"Ответы к заданию 6: \", \"6) Покупка. POS ТУ СБ РФ\", \"1) Выдача наличных в АТМ Сбербанк России\", \"4) Оплата услуги. Банкоматы СБ РФ\", sep=\"\\n\")"
   ]
  },
  {
   "cell_type": "markdown",
   "metadata": {
    "id": "80MFPmpjsmaJ"
   },
   "source": [
    "#### Task 7.\n",
    "1. В датафрейме transactions задайте столбец  customer_id в качестве индекса.\n",
    "2. Выделите клиента с максимальной суммой транзакции (то есть с максимальным приходом на карту). (\\*)\n",
    "3. Найдите у него наиболее часто встречающийся модуль суммы приходов/расходов. (\\**)\n",
    "\n",
    "\n",
    "#### Выберите все верные пункты:\n",
    "    - 1) 1122957.89\n",
    "    - 2) 15721.41\n",
    "    - 3) 22459.16\n",
    "    - 4) 13475494.63\n",
    "    - 5) 107407.78\n",
    "    - 6) 65019.26\n",
    "\n",
    "##### Пояснения:\n",
    "(\\*) Если у клиента были транзакции [-10000, 10, 0, -10], то максимумом будет являться значение 10. <br>\n",
    "(\\**) Если у клиента были транзакции [-10000, 10, 0, -10], то наиболее встречающийся модуль суммы транзакций равен 10, и встретился он 2 раза."
   ]
  },
  {
   "cell_type": "code",
   "execution_count": 62,
   "metadata": {},
   "outputs": [],
   "source": [
    "transactions = transactions.set_index(\"customer_id\")"
   ]
  },
  {
   "cell_type": "code",
   "execution_count": 63,
   "metadata": {},
   "outputs": [
    {
     "data": {
      "text/html": [
       "<div>\n",
       "<style scoped>\n",
       "    .dataframe tbody tr th:only-of-type {\n",
       "        vertical-align: middle;\n",
       "    }\n",
       "\n",
       "    .dataframe tbody tr th {\n",
       "        vertical-align: top;\n",
       "    }\n",
       "\n",
       "    .dataframe thead th {\n",
       "        text-align: right;\n",
       "    }\n",
       "</style>\n",
       "<table border=\"1\" class=\"dataframe\">\n",
       "  <thead>\n",
       "    <tr style=\"text-align: right;\">\n",
       "      <th></th>\n",
       "      <th>tr_datetime</th>\n",
       "      <th>mcc_code</th>\n",
       "      <th>tr_type</th>\n",
       "      <th>amount</th>\n",
       "      <th>term_id</th>\n",
       "    </tr>\n",
       "    <tr>\n",
       "      <th>customer_id</th>\n",
       "      <th></th>\n",
       "      <th></th>\n",
       "      <th></th>\n",
       "      <th></th>\n",
       "      <th></th>\n",
       "    </tr>\n",
       "  </thead>\n",
       "  <tbody>\n",
       "    <tr>\n",
       "      <th>39026145</th>\n",
       "      <td>0 10:23:26</td>\n",
       "      <td>4814</td>\n",
       "      <td>1030</td>\n",
       "      <td>-2245.92</td>\n",
       "      <td>NaN</td>\n",
       "    </tr>\n",
       "    <tr>\n",
       "      <th>39026145</th>\n",
       "      <td>1 10:19:29</td>\n",
       "      <td>6011</td>\n",
       "      <td>7010</td>\n",
       "      <td>56147.89</td>\n",
       "      <td>NaN</td>\n",
       "    </tr>\n",
       "    <tr>\n",
       "      <th>39026145</th>\n",
       "      <td>1 10:20:56</td>\n",
       "      <td>4829</td>\n",
       "      <td>2330</td>\n",
       "      <td>-56147.89</td>\n",
       "      <td>NaN</td>\n",
       "    </tr>\n",
       "    <tr>\n",
       "      <th>39026145</th>\n",
       "      <td>1 10:39:54</td>\n",
       "      <td>5499</td>\n",
       "      <td>1010</td>\n",
       "      <td>-1392.47</td>\n",
       "      <td>NaN</td>\n",
       "    </tr>\n",
       "    <tr>\n",
       "      <th>39026145</th>\n",
       "      <td>2 15:33:42</td>\n",
       "      <td>5499</td>\n",
       "      <td>1010</td>\n",
       "      <td>-920.83</td>\n",
       "      <td>NaN</td>\n",
       "    </tr>\n",
       "    <tr>\n",
       "      <th>...</th>\n",
       "      <td>...</td>\n",
       "      <td>...</td>\n",
       "      <td>...</td>\n",
       "      <td>...</td>\n",
       "      <td>...</td>\n",
       "    </tr>\n",
       "    <tr>\n",
       "      <th>98801178</th>\n",
       "      <td>269 10:29:06</td>\n",
       "      <td>5921</td>\n",
       "      <td>1010</td>\n",
       "      <td>-23016.59</td>\n",
       "      <td>127873</td>\n",
       "    </tr>\n",
       "    <tr>\n",
       "      <th>98801178</th>\n",
       "      <td>270 10:26:45</td>\n",
       "      <td>5211</td>\n",
       "      <td>1010</td>\n",
       "      <td>-61380.88</td>\n",
       "      <td>10114209</td>\n",
       "    </tr>\n",
       "    <tr>\n",
       "      <th>98801178</th>\n",
       "      <td>270 15:18:53</td>\n",
       "      <td>5921</td>\n",
       "      <td>1010</td>\n",
       "      <td>-11800.27</td>\n",
       "      <td>10105341</td>\n",
       "    </tr>\n",
       "    <tr>\n",
       "      <th>98801178</th>\n",
       "      <td>271 12:47:13</td>\n",
       "      <td>5211</td>\n",
       "      <td>1010</td>\n",
       "      <td>-16170.59</td>\n",
       "      <td>10114209</td>\n",
       "    </tr>\n",
       "    <tr>\n",
       "      <th>98801178</th>\n",
       "      <td>271 14:51:56</td>\n",
       "      <td>5921</td>\n",
       "      <td>1010</td>\n",
       "      <td>-10025.77</td>\n",
       "      <td>123991</td>\n",
       "    </tr>\n",
       "  </tbody>\n",
       "</table>\n",
       "<p>1000000 rows × 5 columns</p>\n",
       "</div>"
      ],
      "text/plain": [
       "              tr_datetime  mcc_code  tr_type    amount   term_id\n",
       "customer_id                                                     \n",
       "39026145       0 10:23:26      4814     1030  -2245.92       NaN\n",
       "39026145       1 10:19:29      6011     7010  56147.89       NaN\n",
       "39026145       1 10:20:56      4829     2330 -56147.89       NaN\n",
       "39026145       1 10:39:54      5499     1010  -1392.47       NaN\n",
       "39026145       2 15:33:42      5499     1010   -920.83       NaN\n",
       "...                   ...       ...      ...       ...       ...\n",
       "98801178     269 10:29:06      5921     1010 -23016.59    127873\n",
       "98801178     270 10:26:45      5211     1010 -61380.88  10114209\n",
       "98801178     270 15:18:53      5921     1010 -11800.27  10105341\n",
       "98801178     271 12:47:13      5211     1010 -16170.59  10114209\n",
       "98801178     271 14:51:56      5921     1010 -10025.77    123991\n",
       "\n",
       "[1000000 rows x 5 columns]"
      ]
     },
     "execution_count": 63,
     "metadata": {},
     "output_type": "execute_result"
    }
   ],
   "source": [
    "transactions"
   ]
  },
  {
   "cell_type": "code",
   "execution_count": 85,
   "metadata": {},
   "outputs": [
    {
     "data": {
      "text/plain": [
       "22459.16"
      ]
     },
     "execution_count": 85,
     "metadata": {},
     "output_type": "execute_result"
    }
   ],
   "source": [
    "transactions_largest_amount = transactions.sort_values(by=\"amount\", ascending=False).head(1) # клиент с максимальной суммой транзакции\n",
    "\n",
    "transactions.loc[transactions_largest_amount.index[0]].amount.abs().value_counts().sort_values(ascending=False).head(1).index[0] # наиболее встречающийся модуль суммы приходов/расходов\n"
   ]
  },
  {
   "cell_type": "markdown",
   "metadata": {
    "id": "ejFEy0COsmaJ"
   },
   "source": [
    "#### Task 8.\n",
    "1. Найдите максимальную разницу между медианами суммы транзакций, посчитанными при заданных ниже условиях по полю amount из таблицы transactions (\\*):\n",
    "    - Медиана суммы транзакций\n",
    "    - Медиана суммы транзакций по тем строкам, которые ни в одном из своих столбцов не содержат пустые значения\n",
    "    - Медиана суммы транзакций по строкам, отсортированным по полю amount в порядке возрастания, и из которых удалены дублирующиеся по столбцам [mcc_code, tr_type] строки, причём при удалении соответстующих дублей остаются только последние из дублирующихся строк (keep='last')\n",
    "\n",
    "Выведите ответ в виде вещественного числа, округлённого до двух знаков после запятой, отделив дробную часть точкой в формате \"123.45\"\n",
    "\n",
    "##### Пояснения:\n",
    "(\\*) Для вычисления максимальной разницы между значениями списка можно использовать функцию np.ptp  \n",
    "(\\**) Если в результате получились значения [1,3,5], то макимальная разница между ними 4 == 5-1."
   ]
  },
  {
   "cell_type": "code",
   "execution_count": null,
   "metadata": {
    "ExecuteTime": {
     "end_time": "2020-04-23T10:21:36.645933Z",
     "start_time": "2020-04-23T10:21:36.643612Z"
    },
    "colab": {
     "base_uri": "https://localhost:8080/"
    },
    "id": "nsQ5Pe23smaJ",
    "outputId": "0c7597a2-7126-43ff-bfae-b061a2a8523f",
    "scrolled": true
   },
   "outputs": [
    {
     "data": {
      "text/plain": [
       "4693.96"
      ]
     },
     "execution_count": 17,
     "metadata": {},
     "output_type": "execute_result"
    }
   ],
   "source": [
    "### Type your code here\n",
    "med1 = transactions[\"amount\"].median()\n",
    "\n",
    "med2 = transactions.dropna()[\"amount\"].median()\n",
    "\n",
    "med3 = transactions.sort_values(by = \"amount\").drop_duplicates(subset=[\"mcc_code\", \"tr_type\"], keep = \"last\")[\"amount\"].median()\n",
    "\n",
    "np.ptp([med1, med2, med3])"
   ]
  }
 ],
 "metadata": {
  "colab": {
   "collapsed_sections": [],
   "name": "Homework_1_Frolov.ipynb",
   "provenance": []
  },
  "hide_input": false,
  "kernelspec": {
   "display_name": "Python 3 (ipykernel)",
   "language": "python",
   "name": "python3"
  },
  "language_info": {
   "codemirror_mode": {
    "name": "ipython",
    "version": 3
   },
   "file_extension": ".py",
   "mimetype": "text/x-python",
   "name": "python",
   "nbconvert_exporter": "python",
   "pygments_lexer": "ipython3",
   "version": "3.8.11"
  },
  "toc": {
   "base_numbering": 1,
   "nav_menu": {},
   "number_sections": true,
   "sideBar": true,
   "skip_h1_title": false,
   "title_cell": "Table of Contents",
   "title_sidebar": "Contents",
   "toc_cell": true,
   "toc_position": {},
   "toc_section_display": true,
   "toc_window_display": false
  },
  "varInspector": {
   "cols": {
    "lenName": 16,
    "lenType": 16,
    "lenVar": 40
   },
   "kernels_config": {
    "python": {
     "delete_cmd_postfix": "",
     "delete_cmd_prefix": "del ",
     "library": "var_list.py",
     "varRefreshCmd": "print(var_dic_list())"
    },
    "r": {
     "delete_cmd_postfix": ") ",
     "delete_cmd_prefix": "rm(",
     "library": "var_list.r",
     "varRefreshCmd": "cat(var_dic_list()) "
    }
   },
   "types_to_exclude": [
    "module",
    "function",
    "builtin_function_or_method",
    "instance",
    "_Feature"
   ],
   "window_display": false
  }
 },
 "nbformat": 4,
 "nbformat_minor": 1
}
