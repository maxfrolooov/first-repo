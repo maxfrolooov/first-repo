{
 "cells": [
  {
   "cell_type": "markdown",
   "metadata": {},
   "source": [
    "# Первоначальный анализ данных набора данных кредитного рейтинга"
   ]
  },
  {
   "cell_type": "code",
   "execution_count": 4,
   "metadata": {
    "ExecuteTime": {
     "end_time": "2019-10-24T07:24:20.692120Z",
     "start_time": "2019-10-24T07:24:20.654620Z"
    }
   },
   "outputs": [],
   "source": [
    "# импорт библиотек\n",
    "import pandas as pd\n",
    "import numpy as np\n",
    "import matplotlib.pyplot as plt\n",
    "\n",
    "%matplotlib inline"
   ]
  },
  {
   "cell_type": "code",
   "execution_count": 5,
   "metadata": {
    "ExecuteTime": {
     "end_time": "2019-10-24T06:07:22.680701Z",
     "start_time": "2019-10-24T06:07:22.639501Z"
    }
   },
   "outputs": [],
   "source": [
    "# загрузка датасета данных\n",
    "data = pd.read_csv('german_credit_data_with_risk.csv')"
   ]
  },
  {
   "cell_type": "code",
   "execution_count": 7,
   "metadata": {
    "ExecuteTime": {
     "end_time": "2019-10-24T06:11:49.733202Z",
     "start_time": "2019-10-24T06:11:49.679502Z"
    }
   },
   "outputs": [
    {
     "data": {
      "text/html": [
       "<div>\n",
       "<style scoped>\n",
       "    .dataframe tbody tr th:only-of-type {\n",
       "        vertical-align: middle;\n",
       "    }\n",
       "\n",
       "    .dataframe tbody tr th {\n",
       "        vertical-align: top;\n",
       "    }\n",
       "\n",
       "    .dataframe thead th {\n",
       "        text-align: right;\n",
       "    }\n",
       "</style>\n",
       "<table border=\"1\" class=\"dataframe\">\n",
       "  <thead>\n",
       "    <tr style=\"text-align: right;\">\n",
       "      <th></th>\n",
       "      <th>Unnamed: 0</th>\n",
       "      <th>Age</th>\n",
       "      <th>Sex</th>\n",
       "      <th>Job</th>\n",
       "      <th>Housing</th>\n",
       "      <th>Saving accounts</th>\n",
       "      <th>Checking account</th>\n",
       "      <th>Credit amount</th>\n",
       "      <th>Duration</th>\n",
       "      <th>Purpose</th>\n",
       "      <th>Risk</th>\n",
       "    </tr>\n",
       "  </thead>\n",
       "  <tbody>\n",
       "    <tr>\n",
       "      <th>0</th>\n",
       "      <td>0</td>\n",
       "      <td>67</td>\n",
       "      <td>male</td>\n",
       "      <td>2</td>\n",
       "      <td>own</td>\n",
       "      <td>NaN</td>\n",
       "      <td>little</td>\n",
       "      <td>1169</td>\n",
       "      <td>6</td>\n",
       "      <td>radio/TV</td>\n",
       "      <td>good</td>\n",
       "    </tr>\n",
       "    <tr>\n",
       "      <th>1</th>\n",
       "      <td>1</td>\n",
       "      <td>22</td>\n",
       "      <td>female</td>\n",
       "      <td>2</td>\n",
       "      <td>own</td>\n",
       "      <td>little</td>\n",
       "      <td>moderate</td>\n",
       "      <td>5951</td>\n",
       "      <td>48</td>\n",
       "      <td>radio/TV</td>\n",
       "      <td>bad</td>\n",
       "    </tr>\n",
       "    <tr>\n",
       "      <th>2</th>\n",
       "      <td>2</td>\n",
       "      <td>49</td>\n",
       "      <td>male</td>\n",
       "      <td>1</td>\n",
       "      <td>own</td>\n",
       "      <td>little</td>\n",
       "      <td>NaN</td>\n",
       "      <td>2096</td>\n",
       "      <td>12</td>\n",
       "      <td>education</td>\n",
       "      <td>good</td>\n",
       "    </tr>\n",
       "    <tr>\n",
       "      <th>3</th>\n",
       "      <td>3</td>\n",
       "      <td>45</td>\n",
       "      <td>male</td>\n",
       "      <td>2</td>\n",
       "      <td>free</td>\n",
       "      <td>little</td>\n",
       "      <td>little</td>\n",
       "      <td>7882</td>\n",
       "      <td>42</td>\n",
       "      <td>furniture/equipment</td>\n",
       "      <td>good</td>\n",
       "    </tr>\n",
       "    <tr>\n",
       "      <th>4</th>\n",
       "      <td>4</td>\n",
       "      <td>53</td>\n",
       "      <td>male</td>\n",
       "      <td>2</td>\n",
       "      <td>free</td>\n",
       "      <td>little</td>\n",
       "      <td>little</td>\n",
       "      <td>4870</td>\n",
       "      <td>24</td>\n",
       "      <td>car</td>\n",
       "      <td>bad</td>\n",
       "    </tr>\n",
       "    <tr>\n",
       "      <th>5</th>\n",
       "      <td>5</td>\n",
       "      <td>35</td>\n",
       "      <td>male</td>\n",
       "      <td>1</td>\n",
       "      <td>free</td>\n",
       "      <td>NaN</td>\n",
       "      <td>NaN</td>\n",
       "      <td>9055</td>\n",
       "      <td>36</td>\n",
       "      <td>education</td>\n",
       "      <td>good</td>\n",
       "    </tr>\n",
       "    <tr>\n",
       "      <th>6</th>\n",
       "      <td>6</td>\n",
       "      <td>53</td>\n",
       "      <td>male</td>\n",
       "      <td>2</td>\n",
       "      <td>own</td>\n",
       "      <td>quite rich</td>\n",
       "      <td>NaN</td>\n",
       "      <td>2835</td>\n",
       "      <td>24</td>\n",
       "      <td>furniture/equipment</td>\n",
       "      <td>good</td>\n",
       "    </tr>\n",
       "    <tr>\n",
       "      <th>7</th>\n",
       "      <td>7</td>\n",
       "      <td>35</td>\n",
       "      <td>male</td>\n",
       "      <td>3</td>\n",
       "      <td>rent</td>\n",
       "      <td>little</td>\n",
       "      <td>moderate</td>\n",
       "      <td>6948</td>\n",
       "      <td>36</td>\n",
       "      <td>car</td>\n",
       "      <td>good</td>\n",
       "    </tr>\n",
       "    <tr>\n",
       "      <th>8</th>\n",
       "      <td>8</td>\n",
       "      <td>61</td>\n",
       "      <td>male</td>\n",
       "      <td>1</td>\n",
       "      <td>own</td>\n",
       "      <td>rich</td>\n",
       "      <td>NaN</td>\n",
       "      <td>3059</td>\n",
       "      <td>12</td>\n",
       "      <td>radio/TV</td>\n",
       "      <td>good</td>\n",
       "    </tr>\n",
       "    <tr>\n",
       "      <th>9</th>\n",
       "      <td>9</td>\n",
       "      <td>28</td>\n",
       "      <td>male</td>\n",
       "      <td>3</td>\n",
       "      <td>own</td>\n",
       "      <td>little</td>\n",
       "      <td>moderate</td>\n",
       "      <td>5234</td>\n",
       "      <td>30</td>\n",
       "      <td>car</td>\n",
       "      <td>bad</td>\n",
       "    </tr>\n",
       "    <tr>\n",
       "      <th>10</th>\n",
       "      <td>10</td>\n",
       "      <td>25</td>\n",
       "      <td>female</td>\n",
       "      <td>2</td>\n",
       "      <td>rent</td>\n",
       "      <td>little</td>\n",
       "      <td>moderate</td>\n",
       "      <td>1295</td>\n",
       "      <td>12</td>\n",
       "      <td>car</td>\n",
       "      <td>bad</td>\n",
       "    </tr>\n",
       "    <tr>\n",
       "      <th>11</th>\n",
       "      <td>11</td>\n",
       "      <td>24</td>\n",
       "      <td>female</td>\n",
       "      <td>2</td>\n",
       "      <td>rent</td>\n",
       "      <td>little</td>\n",
       "      <td>little</td>\n",
       "      <td>4308</td>\n",
       "      <td>48</td>\n",
       "      <td>business</td>\n",
       "      <td>bad</td>\n",
       "    </tr>\n",
       "    <tr>\n",
       "      <th>12</th>\n",
       "      <td>12</td>\n",
       "      <td>22</td>\n",
       "      <td>female</td>\n",
       "      <td>2</td>\n",
       "      <td>own</td>\n",
       "      <td>little</td>\n",
       "      <td>moderate</td>\n",
       "      <td>1567</td>\n",
       "      <td>12</td>\n",
       "      <td>radio/TV</td>\n",
       "      <td>good</td>\n",
       "    </tr>\n",
       "    <tr>\n",
       "      <th>13</th>\n",
       "      <td>13</td>\n",
       "      <td>60</td>\n",
       "      <td>male</td>\n",
       "      <td>1</td>\n",
       "      <td>own</td>\n",
       "      <td>little</td>\n",
       "      <td>little</td>\n",
       "      <td>1199</td>\n",
       "      <td>24</td>\n",
       "      <td>car</td>\n",
       "      <td>bad</td>\n",
       "    </tr>\n",
       "    <tr>\n",
       "      <th>14</th>\n",
       "      <td>14</td>\n",
       "      <td>28</td>\n",
       "      <td>female</td>\n",
       "      <td>2</td>\n",
       "      <td>rent</td>\n",
       "      <td>little</td>\n",
       "      <td>little</td>\n",
       "      <td>1403</td>\n",
       "      <td>15</td>\n",
       "      <td>car</td>\n",
       "      <td>good</td>\n",
       "    </tr>\n",
       "  </tbody>\n",
       "</table>\n",
       "</div>"
      ],
      "text/plain": [
       "    Unnamed: 0  Age     Sex  Job Housing Saving accounts Checking account  \\\n",
       "0            0   67    male    2     own             NaN           little   \n",
       "1            1   22  female    2     own          little         moderate   \n",
       "2            2   49    male    1     own          little              NaN   \n",
       "3            3   45    male    2    free          little           little   \n",
       "4            4   53    male    2    free          little           little   \n",
       "5            5   35    male    1    free             NaN              NaN   \n",
       "6            6   53    male    2     own      quite rich              NaN   \n",
       "7            7   35    male    3    rent          little         moderate   \n",
       "8            8   61    male    1     own            rich              NaN   \n",
       "9            9   28    male    3     own          little         moderate   \n",
       "10          10   25  female    2    rent          little         moderate   \n",
       "11          11   24  female    2    rent          little           little   \n",
       "12          12   22  female    2     own          little         moderate   \n",
       "13          13   60    male    1     own          little           little   \n",
       "14          14   28  female    2    rent          little           little   \n",
       "\n",
       "    Credit amount  Duration              Purpose  Risk  \n",
       "0            1169         6             radio/TV  good  \n",
       "1            5951        48             radio/TV   bad  \n",
       "2            2096        12            education  good  \n",
       "3            7882        42  furniture/equipment  good  \n",
       "4            4870        24                  car   bad  \n",
       "5            9055        36            education  good  \n",
       "6            2835        24  furniture/equipment  good  \n",
       "7            6948        36                  car  good  \n",
       "8            3059        12             radio/TV  good  \n",
       "9            5234        30                  car   bad  \n",
       "10           1295        12                  car   bad  \n",
       "11           4308        48             business   bad  \n",
       "12           1567        12             radio/TV  good  \n",
       "13           1199        24                  car   bad  \n",
       "14           1403        15                  car  good  "
      ]
     },
     "execution_count": 7,
     "metadata": {},
     "output_type": "execute_result"
    }
   ],
   "source": [
    "# предварительный просмотр первых 15 строк датасета\n",
    "data.head(15)"
   ]
  },
  {
   "cell_type": "markdown",
   "metadata": {},
   "source": [
    "# Описание атрибутов\n",
    "\n",
    "Age - Возраст (numeric) <br>\n",
    "Sex\t- Пол (text: male - мужской, female - женский) <br>\n",
    "Job - Работа (numeric: 0 - неквалифицированный, 1 - неквалифицированный работник, нерезидент, 2 - квалифицированныйб резидент, 3 - высококвалифицированный) <br>\n",
    "Housing - Жилье (text: собственное (own), арендованное (rent) или бесплатное (free)) <br>\n",
    "Saving accounts - Статус накопительного (сберегательного) счета (text - маленький (little), средний, довольно богатый (quite rich), богатый (rich)) <br>\n",
    "Checking account - Расчетный счет (text - little, NaN, moderate, rich) <br>\n",
    "Credit amount - Сумма кредита (numeric, в немецких марках) <br>\n",
    "Duration - Продолжительность (numeric, in month) <br>\n",
    "Purpose - Цель кредита (text: машина, мебель/техника, радио / ТВ, бытовая техника, ремонт, образование, бизнес, отдых, отпуск /прочее <br>\n",
    "Риск (целевое значение - хороший или плохой риск)<br>"
   ]
  },
  {
   "cell_type": "markdown",
   "metadata": {},
   "source": [
    "## Преобразуем название столбцов в удобный формат и удалим ненужный столбец"
   ]
  },
  {
   "cell_type": "code",
   "execution_count": 9,
   "metadata": {},
   "outputs": [],
   "source": [
    "data = data.drop(['Unnamed: 0'], axis = 1)\n",
    "data = data.rename(columns=lambda x: x.lower().replace(\" \", \"_\"))"
   ]
  },
  {
   "cell_type": "code",
   "execution_count": 35,
   "metadata": {},
   "outputs": [
    {
     "data": {
      "text/html": [
       "<div>\n",
       "<style scoped>\n",
       "    .dataframe tbody tr th:only-of-type {\n",
       "        vertical-align: middle;\n",
       "    }\n",
       "\n",
       "    .dataframe tbody tr th {\n",
       "        vertical-align: top;\n",
       "    }\n",
       "\n",
       "    .dataframe thead th {\n",
       "        text-align: right;\n",
       "    }\n",
       "</style>\n",
       "<table border=\"1\" class=\"dataframe\">\n",
       "  <thead>\n",
       "    <tr style=\"text-align: right;\">\n",
       "      <th></th>\n",
       "      <th>age</th>\n",
       "      <th>sex</th>\n",
       "      <th>job</th>\n",
       "      <th>housing</th>\n",
       "      <th>saving_accounts</th>\n",
       "      <th>checking_account</th>\n",
       "      <th>credit_amount</th>\n",
       "      <th>duration</th>\n",
       "      <th>purpose</th>\n",
       "      <th>risk</th>\n",
       "    </tr>\n",
       "  </thead>\n",
       "  <tbody>\n",
       "    <tr>\n",
       "      <th>0</th>\n",
       "      <td>67</td>\n",
       "      <td>male</td>\n",
       "      <td>2</td>\n",
       "      <td>own</td>\n",
       "      <td>NaN</td>\n",
       "      <td>little</td>\n",
       "      <td>1169</td>\n",
       "      <td>6</td>\n",
       "      <td>radio/TV</td>\n",
       "      <td>good</td>\n",
       "    </tr>\n",
       "    <tr>\n",
       "      <th>1</th>\n",
       "      <td>22</td>\n",
       "      <td>female</td>\n",
       "      <td>2</td>\n",
       "      <td>own</td>\n",
       "      <td>little</td>\n",
       "      <td>moderate</td>\n",
       "      <td>5951</td>\n",
       "      <td>48</td>\n",
       "      <td>radio/TV</td>\n",
       "      <td>bad</td>\n",
       "    </tr>\n",
       "    <tr>\n",
       "      <th>2</th>\n",
       "      <td>49</td>\n",
       "      <td>male</td>\n",
       "      <td>1</td>\n",
       "      <td>own</td>\n",
       "      <td>little</td>\n",
       "      <td>NaN</td>\n",
       "      <td>2096</td>\n",
       "      <td>12</td>\n",
       "      <td>education</td>\n",
       "      <td>good</td>\n",
       "    </tr>\n",
       "    <tr>\n",
       "      <th>3</th>\n",
       "      <td>45</td>\n",
       "      <td>male</td>\n",
       "      <td>2</td>\n",
       "      <td>free</td>\n",
       "      <td>little</td>\n",
       "      <td>little</td>\n",
       "      <td>7882</td>\n",
       "      <td>42</td>\n",
       "      <td>furniture/equipment</td>\n",
       "      <td>good</td>\n",
       "    </tr>\n",
       "    <tr>\n",
       "      <th>4</th>\n",
       "      <td>53</td>\n",
       "      <td>male</td>\n",
       "      <td>2</td>\n",
       "      <td>free</td>\n",
       "      <td>little</td>\n",
       "      <td>little</td>\n",
       "      <td>4870</td>\n",
       "      <td>24</td>\n",
       "      <td>car</td>\n",
       "      <td>bad</td>\n",
       "    </tr>\n",
       "  </tbody>\n",
       "</table>\n",
       "</div>"
      ],
      "text/plain": [
       "   age     sex  job housing saving_accounts checking_account  credit_amount  \\\n",
       "0   67    male    2     own             NaN           little           1169   \n",
       "1   22  female    2     own          little         moderate           5951   \n",
       "2   49    male    1     own          little              NaN           2096   \n",
       "3   45    male    2    free          little           little           7882   \n",
       "4   53    male    2    free          little           little           4870   \n",
       "\n",
       "   duration              purpose  risk  \n",
       "0         6             radio/TV  good  \n",
       "1        48             radio/TV   bad  \n",
       "2        12            education  good  \n",
       "3        42  furniture/equipment  good  \n",
       "4        24                  car   bad  "
      ]
     },
     "execution_count": 35,
     "metadata": {},
     "output_type": "execute_result"
    }
   ],
   "source": [
    "data.head()"
   ]
  },
  {
   "cell_type": "markdown",
   "metadata": {},
   "source": [
    "## Размер данных"
   ]
  },
  {
   "cell_type": "code",
   "execution_count": 12,
   "metadata": {
    "ExecuteTime": {
     "end_time": "2019-10-24T06:16:03.825603Z",
     "start_time": "2019-10-24T06:16:03.791903Z"
    }
   },
   "outputs": [
    {
     "name": "stdout",
     "output_type": "stream",
     "text": [
      "Строки: 1000\n",
      "Столбцы: 10\n"
     ]
    }
   ],
   "source": [
    "print(f'Строки: {data.shape[0]}')\n",
    "print(f'Столбцы: {data.shape[1]}')"
   ]
  },
  {
   "cell_type": "markdown",
   "metadata": {},
   "source": [
    "## Минимальный, максимальный и средний возраст"
   ]
  },
  {
   "cell_type": "code",
   "execution_count": 15,
   "metadata": {
    "ExecuteTime": {
     "end_time": "2019-10-24T06:16:19.928703Z",
     "start_time": "2019-10-24T06:16:19.892503Z"
    }
   },
   "outputs": [
    {
     "name": "stdout",
     "output_type": "stream",
     "text": [
      "Минимальный возраст: 19\n",
      "Максимальный возраст: 75\n",
      "Средний возраст: 35.546\n"
     ]
    }
   ],
   "source": [
    "print(f\"Минимальный возраст: {data.age.min()}\")\n",
    "print(f\"Максимальный возраст: {data.age.max()}\")\n",
    "print(f\"Средний возраст: {data.age.mean()}\")"
   ]
  },
  {
   "cell_type": "markdown",
   "metadata": {},
   "source": [
    "## Количество мужчин и женщин"
   ]
  },
  {
   "cell_type": "code",
   "execution_count": 16,
   "metadata": {
    "ExecuteTime": {
     "end_time": "2019-10-24T06:21:22.975905Z",
     "start_time": "2019-10-24T06:21:22.929105Z"
    }
   },
   "outputs": [
    {
     "name": "stdout",
     "output_type": "stream",
     "text": [
      "Мужчин: 690\n",
      "Мужчин: 310\n"
     ]
    }
   ],
   "source": [
    "male_data = data[data.sex == 'male']['sex'].value_counts()\n",
    "female_data = data[data.sex == 'female']['sex'].value_counts()\n",
    "\n",
    "print(f\"Мужчин: {male_data[0]}\")\n",
    "print(f\"Мужчин: {female_data[0]}\")"
   ]
  },
  {
   "cell_type": "markdown",
   "metadata": {},
   "source": [
    "## Количество высококвалифицированных работников"
   ]
  },
  {
   "cell_type": "code",
   "execution_count": 17,
   "metadata": {
    "ExecuteTime": {
     "end_time": "2019-10-24T06:26:29.995106Z",
     "start_time": "2019-10-24T06:26:29.959506Z"
    }
   },
   "outputs": [
    {
     "name": "stdout",
     "output_type": "stream",
     "text": [
      "Количество высококвалифицированных работников: 148\n"
     ]
    }
   ],
   "source": [
    "high_skilled_data = data[data.job == 3]['job'].value_counts()\n",
    "\n",
    "print(f'Количество высококвалифицированных работников: {high_skilled_data[3]}')"
   ]
  },
  {
   "cell_type": "markdown",
   "metadata": {},
   "source": [
    "## Сколько клиентов имеет собственное жилье"
   ]
  },
  {
   "cell_type": "code",
   "execution_count": 19,
   "metadata": {
    "ExecuteTime": {
     "end_time": "2019-10-24T06:28:51.114507Z",
     "start_time": "2019-10-24T06:28:51.076407Z"
    }
   },
   "outputs": [
    {
     "name": "stdout",
     "output_type": "stream",
     "text": [
      "713 клиентов имеют собственное жилье\n"
     ]
    }
   ],
   "source": [
    "own_house_data = data[data.housing == 'own']['housing'].value_counts()\n",
    "\n",
    "print(f'{own_house_data[0]} клиентов имеют собственное жилье')"
   ]
  },
  {
   "cell_type": "markdown",
   "metadata": {},
   "source": [
    "## Сколько клиентов имеют богатый статус сберегательные счета\n"
   ]
  },
  {
   "cell_type": "code",
   "execution_count": 22,
   "metadata": {
    "ExecuteTime": {
     "end_time": "2019-10-24T06:30:23.394307Z",
     "start_time": "2019-10-24T06:30:23.368707Z"
    }
   },
   "outputs": [
    {
     "name": "stdout",
     "output_type": "stream",
     "text": [
      "48 клиентов имеют богатый статус сберегательного счета\n"
     ]
    }
   ],
   "source": [
    "saving_rich_data = data[data.saving_accounts == 'rich']['saving_accounts'].value_counts()\n",
    "\n",
    "print(f'{saving_rich_data[0]} клиентов имеют богатый статус сберегательного счета')"
   ]
  },
  {
   "cell_type": "markdown",
   "metadata": {},
   "source": [
    "## Сколько клиентов не имеют текущих счетов или имеют пустые текущие счета"
   ]
  },
  {
   "cell_type": "code",
   "execution_count": 28,
   "metadata": {
    "ExecuteTime": {
     "end_time": "2019-10-24T06:46:22.883511Z",
     "start_time": "2019-10-24T06:46:22.852911Z"
    }
   },
   "outputs": [
    {
     "name": "stdout",
     "output_type": "stream",
     "text": [
      "394 клиентов не имеют текущих счетов или имеют пустые текущие счета\n"
     ]
    }
   ],
   "source": [
    "nan_value_data = data.checking_account.isnull().sum()\n",
    "\n",
    "print(f'{nan_value_data} клиентов не имеют текущих счетов или имеют пустые текущие счета')"
   ]
  },
  {
   "cell_type": "markdown",
   "metadata": {},
   "source": [
    "## Профиль клиента, кто имеет наибольшую сумму кредита"
   ]
  },
  {
   "cell_type": "code",
   "execution_count": 29,
   "metadata": {
    "ExecuteTime": {
     "end_time": "2019-10-24T06:41:53.490710Z",
     "start_time": "2019-10-24T06:41:53.440110Z"
    }
   },
   "outputs": [
    {
     "data": {
      "text/html": [
       "<div>\n",
       "<style scoped>\n",
       "    .dataframe tbody tr th:only-of-type {\n",
       "        vertical-align: middle;\n",
       "    }\n",
       "\n",
       "    .dataframe tbody tr th {\n",
       "        vertical-align: top;\n",
       "    }\n",
       "\n",
       "    .dataframe thead th {\n",
       "        text-align: right;\n",
       "    }\n",
       "</style>\n",
       "<table border=\"1\" class=\"dataframe\">\n",
       "  <thead>\n",
       "    <tr style=\"text-align: right;\">\n",
       "      <th></th>\n",
       "      <th>age</th>\n",
       "      <th>sex</th>\n",
       "      <th>job</th>\n",
       "      <th>housing</th>\n",
       "      <th>saving_accounts</th>\n",
       "      <th>checking_account</th>\n",
       "      <th>credit_amount</th>\n",
       "      <th>duration</th>\n",
       "      <th>purpose</th>\n",
       "      <th>risk</th>\n",
       "    </tr>\n",
       "  </thead>\n",
       "  <tbody>\n",
       "    <tr>\n",
       "      <th>915</th>\n",
       "      <td>32</td>\n",
       "      <td>female</td>\n",
       "      <td>3</td>\n",
       "      <td>own</td>\n",
       "      <td>little</td>\n",
       "      <td>moderate</td>\n",
       "      <td>18424</td>\n",
       "      <td>48</td>\n",
       "      <td>vacation/others</td>\n",
       "      <td>bad</td>\n",
       "    </tr>\n",
       "  </tbody>\n",
       "</table>\n",
       "</div>"
      ],
      "text/plain": [
       "     age     sex  job housing saving_accounts checking_account  credit_amount  \\\n",
       "915   32  female    3     own          little         moderate          18424   \n",
       "\n",
       "     duration          purpose risk  \n",
       "915        48  vacation/others  bad  "
      ]
     },
     "execution_count": 29,
     "metadata": {},
     "output_type": "execute_result"
    }
   ],
   "source": [
    "customer_highest_credit = data.sort_values(by='credit_amount', ascending=False).head(1)\n",
    "customer_highest_credit"
   ]
  },
  {
   "cell_type": "markdown",
   "metadata": {},
   "source": [
    "## Сколько клиентов классифицируются как люди с хорошим риском и с плохим риском?"
   ]
  },
  {
   "cell_type": "code",
   "execution_count": 118,
   "metadata": {
    "ExecuteTime": {
     "end_time": "2019-10-24T06:47:41.323511Z",
     "start_time": "2019-10-24T06:47:41.282911Z"
    }
   },
   "outputs": [
    {
     "name": "stdout",
     "output_type": "stream",
     "text": [
      "700 клиентов, чей кредитный риск классифицирован как хороший\n",
      "300 клиентов, чей кредитный риск классифицирован как плохой\n"
     ]
    }
   ],
   "source": [
    "good_risk = data[data.risk == 'good'].risk.value_counts()\n",
    "bad_risk = data[data.risk == 'bad'].risk.value_counts()\n",
    "\n",
    "print(f'{good_risk[0]} клиентов, чей кредитный риск классифицирован как хороший')\n",
    "print(f'{bad_risk[0]} клиентов, чей кредитный риск классифицирован как плохой')"
   ]
  },
  {
   "cell_type": "markdown",
   "metadata": {},
   "source": [
    "## Является ли средняя сумма кредита для хорошего риска выше, чем для плохого риска?"
   ]
  },
  {
   "cell_type": "code",
   "execution_count": 34,
   "metadata": {
    "ExecuteTime": {
     "end_time": "2019-10-24T07:03:09.368315Z",
     "start_time": "2019-10-24T07:03:09.330215Z"
    }
   },
   "outputs": [
    {
     "name": "stdout",
     "output_type": "stream",
     "text": [
      "Средняя сумма кредита для хорошего риска ниже, чем для плохого риска\n"
     ]
    }
   ],
   "source": [
    "# Расчет средней суммы кредита для хорошего риска\n",
    "mean_credit_amount_good = data[data.risk == 'good'].credit_amount.mean()\n",
    "mean_credit_amount_good\n",
    "\n",
    "# Расчет средней суммы кредита для плохого риска\n",
    "mean_credit_amount_bad = data[data.risk == 'bad'].credit_amount.mean()\n",
    "mean_credit_amount_bad\n",
    "\n",
    "# Выполнение условного отчета для проверки, превышает ли средняя сумма кредита для хорошего риска, чем базовый риск\n",
    "if mean_credit_amount_good > mean_credit_amount_bad :\n",
    "    print('Средняя сумма кредита для хорошего риска выше, чем плохого риска')\n",
    "else:\n",
    "    print('Средняя сумма кредита для хорошего риска ниже, чем для плохого риска')"
   ]
  },
  {
   "cell_type": "markdown",
   "metadata": {
    "ExecuteTime": {
     "end_time": "2019-10-24T07:03:53.970616Z",
     "start_time": "2019-10-24T07:03:53.947516Z"
    }
   },
   "source": [
    "## Проверим гипотезу: классифицируются ли клиенты как хорошие в основном из-за владения собственным жильем"
   ]
  },
  {
   "cell_type": "code",
   "execution_count": 39,
   "metadata": {
    "ExecuteTime": {
     "end_time": "2019-10-24T07:23:09.127320Z",
     "start_time": "2019-10-24T07:23:09.107320Z"
    }
   },
   "outputs": [
    {
     "data": {
      "text/plain": [
       "own    527\n",
       "Name: housing, dtype: int64"
      ]
     },
     "execution_count": 39,
     "metadata": {},
     "output_type": "execute_result"
    }
   ],
   "source": [
    "# Количество клиентов, кто имеет хороший уровень риска и владеет собственным жильем\n",
    "own_house_good = data[(data.risk == 'good') & (data.housing == 'own' )].housing\n",
    "own_house_good.value_counts()"
   ]
  },
  {
   "cell_type": "code",
   "execution_count": 41,
   "metadata": {
    "ExecuteTime": {
     "end_time": "2019-10-24T07:21:28.783920Z",
     "start_time": "2019-10-24T07:21:28.750220Z"
    }
   },
   "outputs": [
    {
     "data": {
      "text/plain": [
       "rent    109\n",
       "Name: housing, dtype: int64"
      ]
     },
     "execution_count": 41,
     "metadata": {},
     "output_type": "execute_result"
    }
   ],
   "source": [
    "# Количество клиентов, кто имеет хороший уровень риска и арендует жилье\n",
    "rent_house_good = data[(data.risk == 'good') & (data.housing == 'rent' )].housing\n",
    "rent_house_good.value_counts()"
   ]
  },
  {
   "cell_type": "code",
   "execution_count": 43,
   "metadata": {
    "ExecuteTime": {
     "end_time": "2019-10-24T07:21:27.184520Z",
     "start_time": "2019-10-24T07:21:27.137720Z"
    }
   },
   "outputs": [
    {
     "data": {
      "text/plain": [
       "free    64\n",
       "Name: housing, dtype: int64"
      ]
     },
     "execution_count": 43,
     "metadata": {},
     "output_type": "execute_result"
    }
   ],
   "source": [
    "# Количество клиентов, кто имеет хороший уровень риска и кто имеет бесплатное жилье (например живет с собственником)\n",
    "free_house_good = data[(data.risk == 'good') & (data.housing == 'free' )].housing\n",
    "free_house_good.value_counts()"
   ]
  },
  {
   "cell_type": "code",
   "execution_count": 70,
   "metadata": {
    "ExecuteTime": {
     "end_time": "2019-10-24T07:28:13.299320Z",
     "start_time": "2019-10-24T07:28:13.183120Z"
    }
   },
   "outputs": [
    {
     "data": {
      "image/png": "[encoded data removed]",
      "text/plain": [
       "<Figure size 432x288 with 1 Axes>"
      ]
     },
     "metadata": {},
     "output_type": "display_data"
    }
   ],
   "source": [
    "# Строим 2-х мерную гистограмму для визуального анализа\n",
    "labels = ('Собственное', 'Аренда', 'Бесплатное')\n",
    "sizes = [own_house_good.value_counts()[0], rent_house_good.value_counts()[0], free_house_good.value_counts()[0]]\n",
    "colors = ['gold', 'yellowgreen', 'lightcoral']\n",
    "explode = (0.1, 0, 0)  # смещаем нулевой клин на 0.1 радиуса от остальных\n",
    "\n",
    "\n",
    "plt.pie(sizes, explode=explode, labels=labels, colors=colors,\n",
    "autopct='%1.1f%%', shadow=True, startangle=140)\n",
    "\n",
    "plt.axis('equal')\n",
    "plt.show()"
   ]
  },
  {
   "cell_type": "markdown",
   "metadata": {
    "ExecuteTime": {
     "end_time": "2019-10-24T07:23:29.731620Z",
     "start_time": "2019-10-24T07:23:29.716620Z"
    }
   },
   "source": [
    "Вывод: В основном клиенты, которые классифицируются как клиенты с хорошим риском, имеют собственный дом. Доля этих клиентов по сравнению с остальными 75,3%."
   ]
  },
  {
   "cell_type": "markdown",
   "metadata": {},
   "source": [
    "## Проверим гипотезу: классифицируются ли клиенты как плохие в основном из-за владения собственным жильем"
   ]
  },
  {
   "cell_type": "code",
   "execution_count": 86,
   "metadata": {
    "ExecuteTime": {
     "end_time": "2019-10-24T07:33:45.377522Z",
     "start_time": "2019-10-24T07:33:45.226322Z"
    }
   },
   "outputs": [
    {
     "data": {
      "image/png": "[encoded data removed]",
      "text/plain": [
       "<Figure size 432x288 with 1 Axes>"
      ]
     },
     "metadata": {},
     "output_type": "display_data"
    }
   ],
   "source": [
    "# Клиенты, кто собственник жилья и кто имеет плохой уровень риска\n",
    "own_house_bad = data[(data.risk == 'bad') & (data.housing == 'own' )].housing\n",
    "\n",
    "# Клиенты, кто арендует жилье и кто имеет плохой уровень риска\n",
    "rent_house_bad = data[(data.risk == 'bad') & (data.housing == 'rent' )].housing\n",
    "\n",
    "# Клиенты, кто бесплатно живет и кто имеет плохой уровень риска\n",
    "free_house_bad = data[(data.risk == 'bad') & (data.housing == 'free' )].housing\n",
    "\n",
    "# Строим гистограмму для визуального анализа\n",
    "labels = ('Собственное', 'Аренда', 'Бесплатное')\n",
    "sizes = [own_house_bad.value_counts()[0], rent_house_bad.value_counts()[0],free_house_bad.value_counts()[0]]\n",
    "colors = ['gold', 'yellowgreen', 'lightcoral']\n",
    "explode = (0.1, 0, 0)\n",
    "\n",
    "plt.pie(sizes, explode=explode, labels=labels, colors=colors,\n",
    "autopct='%1.1f%%', shadow=True, startangle=160)\n",
    "\n",
    "plt.axis('equal')\n",
    "plt.show()"
   ]
  },
  {
   "cell_type": "markdown",
   "metadata": {},
   "source": [
    "В основном клиенты, которые классифицируются плохим риском, имеют собственный дом с процентной долей 62,0%. Здесь стоит отметить, что собственников жилья 713, то есть их доля наибольшая среди всех клиентов (1000), поэтому им скорее всего будут чаще присваивать хороший рейтинг, но также и плохой, что мы и видим."
   ]
  },
  {
   "cell_type": "markdown",
   "metadata": {},
   "source": [
    "## Найдем наиболее предпочтительные цели кредита"
   ]
  },
  {
   "cell_type": "code",
   "execution_count": 82,
   "metadata": {
    "ExecuteTime": {
     "end_time": "2019-10-24T07:47:02.214226Z",
     "start_time": "2019-10-24T07:47:02.191626Z"
    }
   },
   "outputs": [
    {
     "data": {
      "text/plain": [
       "purpose            \n",
       "car                    337\n",
       "radio/TV               280\n",
       "furniture/equipment    181\n",
       "business                97\n",
       "education               59\n",
       "repairs                 22\n",
       "domestic appliances     12\n",
       "vacation/others         12\n",
       "dtype: int64"
      ]
     },
     "execution_count": 82,
     "metadata": {},
     "output_type": "execute_result"
    }
   ],
   "source": [
    "purpose_freq = data[[\"purpose\"]].value_counts()\n",
    "purpose_freq"
   ]
  },
  {
   "cell_type": "markdown",
   "metadata": {},
   "source": [
    "Цель автокредитования - это основная цель кредита в наборе данных."
   ]
  },
  {
   "cell_type": "markdown",
   "metadata": {},
   "source": [
    "## Сколько клиентов, которые классифицируются как хороший / плохой риск, которые хотят получить кредит на автомобиль?"
   ]
  },
  {
   "cell_type": "code",
   "execution_count": 89,
   "metadata": {
    "ExecuteTime": {
     "end_time": "2019-10-24T07:55:34.006228Z",
     "start_time": "2019-10-24T07:55:33.904628Z"
    }
   },
   "outputs": [
    {
     "data": {
      "image/png": "[encoded data removed]",
      "text/plain": [
       "<Figure size 432x288 with 1 Axes>"
      ]
     },
     "metadata": {},
     "output_type": "display_data"
    },
    {
     "name": "stdout",
     "output_type": "stream",
     "text": [
      "231 клиентов, которые классифицировались как хорошие, у которых цель - автокредитование, их доля: 68,5%\n",
      "106 клиентов, которые классифицировались как плохие, у которых цель - автокредитование, их доля: 31,5%\n"
     ]
    }
   ],
   "source": [
    "data_purpose_car = data[data.purpose == 'car'].groupby(by='risk').risk.value_counts()\n",
    "\n",
    "# Строим гистограмму для визуального анализа\n",
    "labels = ('Плохой риск', 'Хороший риск')\n",
    "sizes = [data_purpose_car[0], data_purpose_car[1]]\n",
    "colors = ['gold', 'yellowgreen']\n",
    "explode = (0.1, 0) \n",
    "\n",
    "plt.pie(sizes, explode=explode, labels=labels, colors=colors,\n",
    "autopct='%1.1f%%', shadow=True, startangle=40)\n",
    "\n",
    "plt.axis('equal')\n",
    "plt.show()\n",
    "\n",
    "print(f'{data_purpose_car[1]} клиентов, которые классифицировались как хорошие, у которых цель - автокредитование, их доля: 68,5%')\n",
    "print(f'{data_purpose_car[0]} клиентов, которые классифицировались как плохие, у которых цель - автокредитование, их доля: 31,5%')"
   ]
  },
  {
   "cell_type": "markdown",
   "metadata": {},
   "source": [
    "## Средняя продолжительность кредита в наборе данных"
   ]
  },
  {
   "cell_type": "code",
   "execution_count": 98,
   "metadata": {
    "ExecuteTime": {
     "end_time": "2019-10-24T08:00:18.456629Z",
     "start_time": "2019-10-24T08:00:18.441029Z"
    }
   },
   "outputs": [
    {
     "name": "stdout",
     "output_type": "stream",
     "text": [
      "Средняя продолжительность кредита 21 месяц\n"
     ]
    }
   ],
   "source": [
    "mean_loan = data.duration.mean()\n",
    "\n",
    "print(f'Средняя продолжительность кредита {int(round(mean_loan))} месяц')"
   ]
  },
  {
   "cell_type": "markdown",
   "metadata": {},
   "source": [
    "## Средняя продолжительность кредита для плохого / хорошего риска"
   ]
  },
  {
   "cell_type": "code",
   "execution_count": 104,
   "metadata": {
    "ExecuteTime": {
     "end_time": "2019-10-24T08:03:03.186830Z",
     "start_time": "2019-10-24T08:03:03.155630Z"
    }
   },
   "outputs": [
    {
     "name": "stdout",
     "output_type": "stream",
     "text": [
      "Средняя продолжительность кредита для хорошего риска 19.2 месяцев\n",
      "Средняя продолжительность кредита для плохого риска 24.9 месяцев\n"
     ]
    }
   ],
   "source": [
    "mean_loan_good = data[data.risk == 'good'].duration.mean()\n",
    "mean_loan_bad = data[data.risk == 'bad'].duration.mean()\n",
    "\n",
    "print(f'Средняя продолжительность кредита для хорошего риска {round(mean_loan_good, 1)} месяцев')\n",
    "print(f'Средняя продолжительность кредита для плохого риска {round(mean_loan_bad, 1)} месяцев')"
   ]
  },
  {
   "cell_type": "markdown",
   "metadata": {},
   "source": [
    "## Максимальный и минимальный срок кредита"
   ]
  },
  {
   "cell_type": "code",
   "execution_count": 107,
   "metadata": {
    "ExecuteTime": {
     "end_time": "2019-10-24T08:05:03.256830Z",
     "start_time": "2019-10-24T08:05:03.235230Z"
    }
   },
   "outputs": [
    {
     "name": "stdout",
     "output_type": "stream",
     "text": [
      "Максимальный срок кредита 72 месяцев\n",
      "Минимальный срок кредита 4 месяцев\n"
     ]
    }
   ],
   "source": [
    "max_loan = data.duration.max()\n",
    "min_loan = data.duration.min()\n",
    "\n",
    "print(f'Максимальный срок кредита {max_loan} месяцев')\n",
    "print(f'Минимальный срок кредита {min_loan} месяцев')"
   ]
  },
  {
   "cell_type": "markdown",
   "metadata": {},
   "source": [
    "## Количество клиентов, которые имеют хороший риск по признаку пола"
   ]
  },
  {
   "cell_type": "code",
   "execution_count": 117,
   "metadata": {
    "ExecuteTime": {
     "end_time": "2019-10-24T08:12:53.004832Z",
     "start_time": "2019-10-24T08:12:52.964632Z"
    }
   },
   "outputs": [
    {
     "name": "stdout",
     "output_type": "stream",
     "text": [
      "499 мужчин с хорошем уровнем риска\n",
      "201 женщин с хорошем уровнем риска\n"
     ]
    }
   ],
   "source": [
    "male_risk_good = data[(data.sex == 'male') & (data.risk == 'good')].sex.value_counts()\n",
    "female_risk_good = data[(data.sex == 'female') & (data.risk == 'good')].sex.value_counts()\n",
    "\n",
    "print(f'{male_risk_good[0]} мужчин с хорошем уровнем риска')\n",
    "print(f'{female_risk_good[0]} женщин с хорошем уровнем риска')"
   ]
  },
  {
   "cell_type": "markdown",
   "metadata": {},
   "source": [
    "## Какие клиенты чаще всего класссифицируются как хорошие / плохие по признаку работы"
   ]
  },
  {
   "cell_type": "code",
   "execution_count": 112,
   "metadata": {
    "ExecuteTime": {
     "end_time": "2019-10-24T08:20:48.767834Z",
     "start_time": "2019-10-24T08:20:48.736234Z"
    }
   },
   "outputs": [
    {
     "data": {
      "text/plain": [
       "2    444\n",
       "1    144\n",
       "3     97\n",
       "0     15\n",
       "Name: job, dtype: int64"
      ]
     },
     "execution_count": 112,
     "metadata": {},
     "output_type": "execute_result"
    }
   ],
   "source": [
    "job_good = data[data.risk == 'good'].job.value_counts()\n",
    "job_bad = data[data.risk == 'bad'].job.value_counts()\n",
    "\n",
    "job_good"
   ]
  },
  {
   "cell_type": "code",
   "execution_count": 113,
   "metadata": {
    "ExecuteTime": {
     "end_time": "2019-10-24T08:20:50.683234Z",
     "start_time": "2019-10-24T08:20:50.667634Z"
    }
   },
   "outputs": [
    {
     "name": "stdout",
     "output_type": "stream",
     "text": [
      "Большинство клиентов с хорошим риском - это квалифицированные\n"
     ]
    }
   ],
   "source": [
    "print('Большинство клиентов с хорошим риском - это квалифицированные')"
   ]
  },
  {
   "cell_type": "code",
   "execution_count": 114,
   "metadata": {
    "ExecuteTime": {
     "end_time": "2019-10-24T08:19:56.727634Z",
     "start_time": "2019-10-24T08:19:56.696434Z"
    }
   },
   "outputs": [
    {
     "data": {
      "text/plain": [
       "2    186\n",
       "1     56\n",
       "3     51\n",
       "0      7\n",
       "Name: job, dtype: int64"
      ]
     },
     "execution_count": 114,
     "metadata": {},
     "output_type": "execute_result"
    }
   ],
   "source": [
    "job_bad"
   ]
  },
  {
   "cell_type": "code",
   "execution_count": 115,
   "metadata": {
    "ExecuteTime": {
     "end_time": "2019-10-24T08:21:02.985434Z",
     "start_time": "2019-10-24T08:21:02.946234Z"
    }
   },
   "outputs": [
    {
     "name": "stdout",
     "output_type": "stream",
     "text": [
      "Большинство клиентов с плохим риском - это квалифицированные\n"
     ]
    }
   ],
   "source": [
    "print('Большинство клиентов с плохим риском - это квалифицированные')"
   ]
  },
  {
   "cell_type": "markdown",
   "metadata": {},
   "source": [
    "## Основная цель кредита для клиентов с плохим риском"
   ]
  },
  {
   "cell_type": "code",
   "execution_count": 116,
   "metadata": {
    "ExecuteTime": {
     "end_time": "2019-10-24T08:24:46.902435Z",
     "start_time": "2019-10-24T08:24:46.878835Z"
    }
   },
   "outputs": [
    {
     "data": {
      "text/plain": [
       "car                    106\n",
       "radio/TV                62\n",
       "furniture/equipment     58\n",
       "business                34\n",
       "education               23\n",
       "repairs                  8\n",
       "vacation/others          5\n",
       "domestic appliances      4\n",
       "Name: purpose, dtype: int64"
      ]
     },
     "execution_count": 116,
     "metadata": {},
     "output_type": "execute_result"
    }
   ],
   "source": [
    "bad_purpose = data[data.risk == 'bad'].purpose.value_counts()\n",
    "bad_purpose"
   ]
  },
  {
   "cell_type": "markdown",
   "metadata": {},
   "source": [
    "Большинство клиентов, которые классифицируются как плохие клиенты, - это автокредиты с частотой 106"
   ]
  },
  {
   "cell_type": "markdown",
   "metadata": {},
   "source": [
    "## Сделаем anova тест для проверки нулевой гипотезы о равенстве средних credit_amount для групп purpose (то есть хотим проверить гипотезу о том, что в среднем сумма выданных кредитов распределена равномерно в зависимости от цели кредита)"
   ]
  },
  {
   "cell_type": "code",
   "execution_count": 123,
   "metadata": {},
   "outputs": [],
   "source": [
    "from scipy import stats\n",
    "\n",
    "df1 = data.copy()\n",
    "\n",
    "df1 = df1[[\"credit_amount\",\"purpose\"]]\n",
    "\n",
    "group = pd.unique(df1.purpose.values)\n",
    "\n",
    "d_v1 = {grp:df1[\"credit_amount\"][df1.purpose == grp] for grp in group}"
   ]
  },
  {
   "cell_type": "code",
   "execution_count": 127,
   "metadata": {},
   "outputs": [
    {
     "data": {
      "text/plain": [
       "LeveneResult(statistic=11.506286350981943, pvalue=4.177745359274538e-14)"
      ]
     },
     "execution_count": 127,
     "metadata": {},
     "output_type": "execute_result"
    }
   ],
   "source": [
    "stats.levene(d_v1['radio/TV'],d_v1['furniture/equipment'],d_v1['car'],d_v1['business'],d_v1['domestic appliances'],d_v1['repairs'],\n",
    "                     d_v1['vacation/others'],d_v1['education'])"
   ]
  },
  {
   "cell_type": "code",
   "execution_count": 128,
   "metadata": {},
   "outputs": [
    {
     "data": {
      "text/plain": [
       "'F statistics: 13.34142171179633 | P value : 1.585947764999813e-16'"
      ]
     },
     "execution_count": 128,
     "metadata": {},
     "output_type": "execute_result"
    }
   ],
   "source": [
    "f, p = stats.f_oneway(d_v1['radio/TV'],d_v1['furniture/equipment'],d_v1['car'],d_v1['business'],d_v1['domestic appliances'],d_v1['repairs'],\n",
    "                     d_v1['vacation/others'],d_v1['education'])\n",
    "\n",
    "(\"F statistics: \"+str(f)+\" | P value : \"+str(p))"
   ]
  },
  {
   "cell_type": "markdown",
   "metadata": {},
   "source": [
    "### H0: Значимых различий средних по группам нет.\n",
    "\n",
    "### H1: По крайней мере, среднее значение одной группы отличается.\n",
    "\n",
    "### P value < 0.05\n",
    "\n",
    "### Результат: отклоняем нулевую гипотезу"
   ]
  },
  {
   "cell_type": "code",
   "execution_count": 129,
   "metadata": {},
   "outputs": [
    {
     "data": {
      "text/html": [
       "<div>\n",
       "<style scoped>\n",
       "    .dataframe tbody tr th:only-of-type {\n",
       "        vertical-align: middle;\n",
       "    }\n",
       "\n",
       "    .dataframe tbody tr th {\n",
       "        vertical-align: top;\n",
       "    }\n",
       "\n",
       "    .dataframe thead th {\n",
       "        text-align: right;\n",
       "    }\n",
       "</style>\n",
       "<table border=\"1\" class=\"dataframe\">\n",
       "  <thead>\n",
       "    <tr style=\"text-align: right;\">\n",
       "      <th></th>\n",
       "      <th>credit_amount</th>\n",
       "    </tr>\n",
       "    <tr>\n",
       "      <th>purpose</th>\n",
       "      <th></th>\n",
       "    </tr>\n",
       "  </thead>\n",
       "  <tbody>\n",
       "    <tr>\n",
       "      <th>business</th>\n",
       "      <td>12.329507</td>\n",
       "    </tr>\n",
       "    <tr>\n",
       "      <th>car</th>\n",
       "      <td>38.819347</td>\n",
       "    </tr>\n",
       "    <tr>\n",
       "      <th>domestic appliances</th>\n",
       "      <td>0.549513</td>\n",
       "    </tr>\n",
       "    <tr>\n",
       "      <th>education</th>\n",
       "      <td>5.192895</td>\n",
       "    </tr>\n",
       "    <tr>\n",
       "      <th>furniture/equipment</th>\n",
       "      <td>16.969771</td>\n",
       "    </tr>\n",
       "    <tr>\n",
       "      <th>radio/TV</th>\n",
       "      <td>21.292818</td>\n",
       "    </tr>\n",
       "    <tr>\n",
       "      <th>repairs</th>\n",
       "      <td>1.834707</td>\n",
       "    </tr>\n",
       "    <tr>\n",
       "      <th>vacation/others</th>\n",
       "      <td>3.011441</td>\n",
       "    </tr>\n",
       "  </tbody>\n",
       "</table>\n",
       "</div>"
      ],
      "text/plain": [
       "                     credit_amount\n",
       "purpose                           \n",
       "business                 12.329507\n",
       "car                      38.819347\n",
       "domestic appliances       0.549513\n",
       "education                 5.192895\n",
       "furniture/equipment      16.969771\n",
       "radio/TV                 21.292818\n",
       "repairs                   1.834707\n",
       "vacation/others           3.011441"
      ]
     },
     "execution_count": 129,
     "metadata": {},
     "output_type": "execute_result"
    }
   ],
   "source": [
    "(data.groupby(by=[\"purpose\"])[[\"credit_amount\"]].agg(\"sum\") / data[\"credit_amount\"].sum())*100\n",
    "# credit_amount в %"
   ]
  },
  {
   "cell_type": "markdown",
   "metadata": {},
   "source": [
    "В результате между группами наблюдается различие.\n",
    "В dataframe, полученным сверху, видна разница."
   ]
  },
  {
   "cell_type": "code",
   "execution_count": null,
   "metadata": {},
   "outputs": [],
   "source": []
  }
 ],
 "metadata": {
  "kernelspec": {
   "display_name": "Python 3 (ipykernel)",
   "language": "python",
   "name": "python3"
  },
  "language_info": {
   "codemirror_mode": {
    "name": "ipython",
    "version": 3
   },
   "file_extension": ".py",
   "mimetype": "text/x-python",
   "name": "python",
   "nbconvert_exporter": "python",
   "pygments_lexer": "ipython3",
   "version": "3.9.7"
  },
  "toc": {
   "base_numbering": 1,
   "nav_menu": {},
   "number_sections": true,
   "sideBar": true,
   "skip_h1_title": false,
   "title_cell": "Table of Contents",
   "title_sidebar": "Contents",
   "toc_cell": false,
   "toc_position": {},
   "toc_section_display": true,
   "toc_window_display": false
  }
 },
 "nbformat": 4,
 "nbformat_minor": 2
}
