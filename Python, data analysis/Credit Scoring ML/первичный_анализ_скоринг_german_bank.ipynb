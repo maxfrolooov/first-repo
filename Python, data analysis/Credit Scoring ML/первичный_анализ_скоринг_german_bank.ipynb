{
 "cells": [
  {
   "cell_type": "markdown",
   "metadata": {
    "papermill": {
     "duration": 0.019027,
     "end_time": "2020-08-27T15:32:38.700306",
     "exception": false,
     "start_time": "2020-08-27T15:32:38.681279",
     "status": "completed"
    },
    "tags": []
   },
   "source": [
    "# Первоначальный анализ данных набора данных кредитного рейтинга"
   ]
  },
  {
   "cell_type": "code",
   "execution_count": 62,
   "metadata": {
    "execution": {
     "iopub.execute_input": "2020-08-27T15:32:38.747823Z",
     "iopub.status.busy": "2020-08-27T15:32:38.747015Z",
     "iopub.status.idle": "2020-08-27T15:32:39.702043Z",
     "shell.execute_reply": "2020-08-27T15:32:39.701170Z"
    },
    "papermill": {
     "duration": 0.982604,
     "end_time": "2020-08-27T15:32:39.702174",
     "exception": false,
     "start_time": "2020-08-27T15:32:38.719570",
     "status": "completed"
    },
    "tags": []
   },
   "outputs": [],
   "source": [
    "import numpy as np\n",
    "import pandas as pd\n",
    "import seaborn as sns\n",
    "import matplotlib.pyplot as plt\n",
    "import plotly.graph_objects as go"
   ]
  },
  {
   "cell_type": "markdown",
   "metadata": {},
   "source": [
    "## Загрузка данных"
   ]
  },
  {
   "cell_type": "code",
   "execution_count": 63,
   "metadata": {
    "execution": {
     "iopub.execute_input": "2020-08-27T15:32:39.756986Z",
     "iopub.status.busy": "2020-08-27T15:32:39.756172Z",
     "iopub.status.idle": "2020-08-27T15:32:39.792739Z",
     "shell.execute_reply": "2020-08-27T15:32:39.793312Z"
    },
    "papermill": {
     "duration": 0.07025,
     "end_time": "2020-08-27T15:32:39.793481",
     "exception": false,
     "start_time": "2020-08-27T15:32:39.723231",
     "status": "completed"
    },
    "scrolled": true,
    "tags": []
   },
   "outputs": [
    {
     "data": {
      "text/html": [
       "<div>\n",
       "<style scoped>\n",
       "    .dataframe tbody tr th:only-of-type {\n",
       "        vertical-align: middle;\n",
       "    }\n",
       "\n",
       "    .dataframe tbody tr th {\n",
       "        vertical-align: top;\n",
       "    }\n",
       "\n",
       "    .dataframe thead th {\n",
       "        text-align: right;\n",
       "    }\n",
       "</style>\n",
       "<table border=\"1\" class=\"dataframe\">\n",
       "  <thead>\n",
       "    <tr style=\"text-align: right;\">\n",
       "      <th></th>\n",
       "      <th>Age</th>\n",
       "      <th>Sex</th>\n",
       "      <th>Job</th>\n",
       "      <th>Housing</th>\n",
       "      <th>Saving accounts</th>\n",
       "      <th>Checking account</th>\n",
       "      <th>Credit amount</th>\n",
       "      <th>Duration</th>\n",
       "      <th>Purpose</th>\n",
       "      <th>Risk</th>\n",
       "    </tr>\n",
       "  </thead>\n",
       "  <tbody>\n",
       "    <tr>\n",
       "      <th>0</th>\n",
       "      <td>67</td>\n",
       "      <td>male</td>\n",
       "      <td>2</td>\n",
       "      <td>own</td>\n",
       "      <td>NaN</td>\n",
       "      <td>little</td>\n",
       "      <td>1169</td>\n",
       "      <td>6</td>\n",
       "      <td>radio/TV</td>\n",
       "      <td>good</td>\n",
       "    </tr>\n",
       "    <tr>\n",
       "      <th>1</th>\n",
       "      <td>22</td>\n",
       "      <td>female</td>\n",
       "      <td>2</td>\n",
       "      <td>own</td>\n",
       "      <td>little</td>\n",
       "      <td>moderate</td>\n",
       "      <td>5951</td>\n",
       "      <td>48</td>\n",
       "      <td>radio/TV</td>\n",
       "      <td>bad</td>\n",
       "    </tr>\n",
       "    <tr>\n",
       "      <th>2</th>\n",
       "      <td>49</td>\n",
       "      <td>male</td>\n",
       "      <td>1</td>\n",
       "      <td>own</td>\n",
       "      <td>little</td>\n",
       "      <td>NaN</td>\n",
       "      <td>2096</td>\n",
       "      <td>12</td>\n",
       "      <td>education</td>\n",
       "      <td>good</td>\n",
       "    </tr>\n",
       "    <tr>\n",
       "      <th>3</th>\n",
       "      <td>45</td>\n",
       "      <td>male</td>\n",
       "      <td>2</td>\n",
       "      <td>free</td>\n",
       "      <td>little</td>\n",
       "      <td>little</td>\n",
       "      <td>7882</td>\n",
       "      <td>42</td>\n",
       "      <td>furniture/equipment</td>\n",
       "      <td>good</td>\n",
       "    </tr>\n",
       "    <tr>\n",
       "      <th>4</th>\n",
       "      <td>53</td>\n",
       "      <td>male</td>\n",
       "      <td>2</td>\n",
       "      <td>free</td>\n",
       "      <td>little</td>\n",
       "      <td>little</td>\n",
       "      <td>4870</td>\n",
       "      <td>24</td>\n",
       "      <td>car</td>\n",
       "      <td>bad</td>\n",
       "    </tr>\n",
       "  </tbody>\n",
       "</table>\n",
       "</div>"
      ],
      "text/plain": [
       "   Age     Sex  Job Housing Saving accounts Checking account  Credit amount  \\\n",
       "0   67    male    2     own             NaN           little           1169   \n",
       "1   22  female    2     own          little         moderate           5951   \n",
       "2   49    male    1     own          little              NaN           2096   \n",
       "3   45    male    2    free          little           little           7882   \n",
       "4   53    male    2    free          little           little           4870   \n",
       "\n",
       "   Duration              Purpose  Risk  \n",
       "0         6             radio/TV  good  \n",
       "1        48             radio/TV   bad  \n",
       "2        12            education  good  \n",
       "3        42  furniture/equipment  good  \n",
       "4        24                  car   bad  "
      ]
     },
     "execution_count": 63,
     "metadata": {},
     "output_type": "execute_result"
    }
   ],
   "source": [
    "df=pd.read_csv(\"german_credit_risk.csv\")\n",
    "df=df.iloc[:,1:]\n",
    "df.head()"
   ]
  },
  {
   "cell_type": "markdown",
   "metadata": {},
   "source": [
    "# Описание атрибутов\n",
    "\n",
    "Age - Возраст (numeric) <br>\n",
    "Sex\t- Пол (text: male - мужской, female - женский) <br>\n",
    "Job - Работа (numeric: 0 - неквалифицированный, 1 - неквалифицированный работник, нерезидент, 2 - квалифицированныйб резидент, 3 - высококвалифицированный) <br>\n",
    "Housing - Жилье (text: собственное (own), арендованное (rent) или бесплатное (free)) <br>\n",
    "Saving accounts - Статус накопительного (сберегательного) счета (text - маленький (little), средний, довольно богатый (quite rich), богатый (rich)) <br>\n",
    "Checking account - Расчетный счет (text - little, NaN, moderate, rich) <br>\n",
    "Credit amount - Сумма кредита (numeric, в немецких марках) <br>\n",
    "Duration - Продолжительность (numeric, in month) <br>\n",
    "Purpose - Цель кредита (text: машина, мебель/техника, радио / ТВ, бытовая техника, ремонт, образование, бизнес, отдых, отпуск /прочее <br>\n",
    "Риск (целевое значение - хороший или плохой риск)<br>"
   ]
  },
  {
   "cell_type": "markdown",
   "metadata": {},
   "source": [
    "### Приведем имена столбцов к удобному имени"
   ]
  },
  {
   "cell_type": "code",
   "execution_count": 64,
   "metadata": {},
   "outputs": [],
   "source": [
    "df = df.rename(columns=lambda x: x.lower().replace(\" \", \"_\"))"
   ]
  },
  {
   "cell_type": "code",
   "execution_count": 65,
   "metadata": {
    "execution": {
     "iopub.execute_input": "2020-08-27T15:32:39.972183Z",
     "iopub.status.busy": "2020-08-27T15:32:39.971266Z",
     "iopub.status.idle": "2020-08-27T15:32:39.976242Z",
     "shell.execute_reply": "2020-08-27T15:32:39.975621Z"
    },
    "papermill": {
     "duration": 0.045399,
     "end_time": "2020-08-27T15:32:39.976407",
     "exception": false,
     "start_time": "2020-08-27T15:32:39.931008",
     "status": "completed"
    },
    "tags": []
   },
   "outputs": [
    {
     "name": "stdout",
     "output_type": "stream",
     "text": [
      "<class 'pandas.core.frame.DataFrame'>\n",
      "RangeIndex: 1000 entries, 0 to 999\n",
      "Data columns (total 10 columns):\n",
      " #   Column            Non-Null Count  Dtype \n",
      "---  ------            --------------  ----- \n",
      " 0   age               1000 non-null   int64 \n",
      " 1   sex               1000 non-null   object\n",
      " 2   job               1000 non-null   int64 \n",
      " 3   housing           1000 non-null   object\n",
      " 4   saving_accounts   817 non-null    object\n",
      " 5   checking_account  606 non-null    object\n",
      " 6   credit_amount     1000 non-null   int64 \n",
      " 7   duration          1000 non-null   int64 \n",
      " 8   purpose           1000 non-null   object\n",
      " 9   risk              1000 non-null   object\n",
      "dtypes: int64(4), object(6)\n",
      "memory usage: 78.2+ KB\n"
     ]
    }
   ],
   "source": [
    "df.info()"
   ]
  },
  {
   "cell_type": "markdown",
   "metadata": {},
   "source": [
    "age, job, credit_amount, duration - количественные переменные, остальные - факторные (качественные). saving_accounts и checking_account имеют пропущенные значения"
   ]
  },
  {
   "cell_type": "code",
   "execution_count": 66,
   "metadata": {
    "execution": {
     "iopub.execute_input": "2020-08-27T15:32:40.024688Z",
     "iopub.status.busy": "2020-08-27T15:32:40.023691Z",
     "iopub.status.idle": "2020-08-27T15:32:40.046877Z",
     "shell.execute_reply": "2020-08-27T15:32:40.046091Z"
    },
    "papermill": {
     "duration": 0.05062,
     "end_time": "2020-08-27T15:32:40.047003",
     "exception": false,
     "start_time": "2020-08-27T15:32:39.996383",
     "status": "completed"
    },
    "tags": []
   },
   "outputs": [
    {
     "data": {
      "text/html": [
       "<div>\n",
       "<style scoped>\n",
       "    .dataframe tbody tr th:only-of-type {\n",
       "        vertical-align: middle;\n",
       "    }\n",
       "\n",
       "    .dataframe tbody tr th {\n",
       "        vertical-align: top;\n",
       "    }\n",
       "\n",
       "    .dataframe thead th {\n",
       "        text-align: right;\n",
       "    }\n",
       "</style>\n",
       "<table border=\"1\" class=\"dataframe\">\n",
       "  <thead>\n",
       "    <tr style=\"text-align: right;\">\n",
       "      <th></th>\n",
       "      <th>age</th>\n",
       "      <th>job</th>\n",
       "      <th>credit_amount</th>\n",
       "      <th>duration</th>\n",
       "    </tr>\n",
       "  </thead>\n",
       "  <tbody>\n",
       "    <tr>\n",
       "      <th>count</th>\n",
       "      <td>1000.000000</td>\n",
       "      <td>1000.000000</td>\n",
       "      <td>1000.000000</td>\n",
       "      <td>1000.000000</td>\n",
       "    </tr>\n",
       "    <tr>\n",
       "      <th>mean</th>\n",
       "      <td>35.546000</td>\n",
       "      <td>1.904000</td>\n",
       "      <td>3271.258000</td>\n",
       "      <td>20.903000</td>\n",
       "    </tr>\n",
       "    <tr>\n",
       "      <th>std</th>\n",
       "      <td>11.375469</td>\n",
       "      <td>0.653614</td>\n",
       "      <td>2822.736876</td>\n",
       "      <td>12.058814</td>\n",
       "    </tr>\n",
       "    <tr>\n",
       "      <th>min</th>\n",
       "      <td>19.000000</td>\n",
       "      <td>0.000000</td>\n",
       "      <td>250.000000</td>\n",
       "      <td>4.000000</td>\n",
       "    </tr>\n",
       "    <tr>\n",
       "      <th>25%</th>\n",
       "      <td>27.000000</td>\n",
       "      <td>2.000000</td>\n",
       "      <td>1365.500000</td>\n",
       "      <td>12.000000</td>\n",
       "    </tr>\n",
       "    <tr>\n",
       "      <th>50%</th>\n",
       "      <td>33.000000</td>\n",
       "      <td>2.000000</td>\n",
       "      <td>2319.500000</td>\n",
       "      <td>18.000000</td>\n",
       "    </tr>\n",
       "    <tr>\n",
       "      <th>75%</th>\n",
       "      <td>42.000000</td>\n",
       "      <td>2.000000</td>\n",
       "      <td>3972.250000</td>\n",
       "      <td>24.000000</td>\n",
       "    </tr>\n",
       "    <tr>\n",
       "      <th>max</th>\n",
       "      <td>75.000000</td>\n",
       "      <td>3.000000</td>\n",
       "      <td>18424.000000</td>\n",
       "      <td>72.000000</td>\n",
       "    </tr>\n",
       "  </tbody>\n",
       "</table>\n",
       "</div>"
      ],
      "text/plain": [
       "               age          job  credit_amount     duration\n",
       "count  1000.000000  1000.000000    1000.000000  1000.000000\n",
       "mean     35.546000     1.904000    3271.258000    20.903000\n",
       "std      11.375469     0.653614    2822.736876    12.058814\n",
       "min      19.000000     0.000000     250.000000     4.000000\n",
       "25%      27.000000     2.000000    1365.500000    12.000000\n",
       "50%      33.000000     2.000000    2319.500000    18.000000\n",
       "75%      42.000000     2.000000    3972.250000    24.000000\n",
       "max      75.000000     3.000000   18424.000000    72.000000"
      ]
     },
     "execution_count": 66,
     "metadata": {},
     "output_type": "execute_result"
    }
   ],
   "source": [
    "df.describe()"
   ]
  },
  {
   "cell_type": "markdown",
   "metadata": {},
   "source": [
    "Данные по возрасту, работе, сумме кредита, дюрации вполне нормальные, аномалии отсутствуют и отрицательные значения тоже отсутствуют. Максимальный срок кредита вполне удовлетворяющий - 72 месяца или 6 лет, минимальный возраст заемщика - 19 лет и так далее."
   ]
  },
  {
   "cell_type": "markdown",
   "metadata": {},
   "source": [
    "## Корреляционная матрица для количественных факторов"
   ]
  },
  {
   "cell_type": "code",
   "execution_count": 67,
   "metadata": {
    "execution": {
     "iopub.execute_input": "2020-08-27T15:32:40.094016Z",
     "iopub.status.busy": "2020-08-27T15:32:40.092681Z",
     "iopub.status.idle": "2020-08-27T15:32:40.106404Z",
     "shell.execute_reply": "2020-08-27T15:32:40.105799Z"
    },
    "papermill": {
     "duration": 0.039208,
     "end_time": "2020-08-27T15:32:40.106533",
     "exception": false,
     "start_time": "2020-08-27T15:32:40.067325",
     "status": "completed"
    },
    "tags": []
   },
   "outputs": [
    {
     "data": {
      "text/html": [
       "<div>\n",
       "<style scoped>\n",
       "    .dataframe tbody tr th:only-of-type {\n",
       "        vertical-align: middle;\n",
       "    }\n",
       "\n",
       "    .dataframe tbody tr th {\n",
       "        vertical-align: top;\n",
       "    }\n",
       "\n",
       "    .dataframe thead th {\n",
       "        text-align: right;\n",
       "    }\n",
       "</style>\n",
       "<table border=\"1\" class=\"dataframe\">\n",
       "  <thead>\n",
       "    <tr style=\"text-align: right;\">\n",
       "      <th></th>\n",
       "      <th>age</th>\n",
       "      <th>job</th>\n",
       "      <th>credit_amount</th>\n",
       "      <th>duration</th>\n",
       "    </tr>\n",
       "  </thead>\n",
       "  <tbody>\n",
       "    <tr>\n",
       "      <th>age</th>\n",
       "      <td>1.000000</td>\n",
       "      <td>0.015673</td>\n",
       "      <td>0.032716</td>\n",
       "      <td>-0.036136</td>\n",
       "    </tr>\n",
       "    <tr>\n",
       "      <th>job</th>\n",
       "      <td>0.015673</td>\n",
       "      <td>1.000000</td>\n",
       "      <td>0.285385</td>\n",
       "      <td>0.210910</td>\n",
       "    </tr>\n",
       "    <tr>\n",
       "      <th>credit_amount</th>\n",
       "      <td>0.032716</td>\n",
       "      <td>0.285385</td>\n",
       "      <td>1.000000</td>\n",
       "      <td>0.624984</td>\n",
       "    </tr>\n",
       "    <tr>\n",
       "      <th>duration</th>\n",
       "      <td>-0.036136</td>\n",
       "      <td>0.210910</td>\n",
       "      <td>0.624984</td>\n",
       "      <td>1.000000</td>\n",
       "    </tr>\n",
       "  </tbody>\n",
       "</table>\n",
       "</div>"
      ],
      "text/plain": [
       "                    age       job  credit_amount  duration\n",
       "age            1.000000  0.015673       0.032716 -0.036136\n",
       "job            0.015673  1.000000       0.285385  0.210910\n",
       "credit_amount  0.032716  0.285385       1.000000  0.624984\n",
       "duration      -0.036136  0.210910       0.624984  1.000000"
      ]
     },
     "execution_count": 67,
     "metadata": {},
     "output_type": "execute_result"
    }
   ],
   "source": [
    "df.corr()"
   ]
  },
  {
   "cell_type": "markdown",
   "metadata": {},
   "source": [
    "Дюрация кредита и сумма кредита имеют значимую положительную корреляцию, отличную от нуля, что ожидаемо"
   ]
  },
  {
   "cell_type": "markdown",
   "metadata": {},
   "source": [
    "### Уникальные значения"
   ]
  },
  {
   "cell_type": "code",
   "execution_count": 68,
   "metadata": {
    "execution": {
     "iopub.execute_input": "2020-08-27T15:32:40.156323Z",
     "iopub.status.busy": "2020-08-27T15:32:40.155550Z",
     "iopub.status.idle": "2020-08-27T15:32:40.166150Z",
     "shell.execute_reply": "2020-08-27T15:32:40.165140Z"
    },
    "papermill": {
     "duration": 0.03933,
     "end_time": "2020-08-27T15:32:40.166313",
     "exception": false,
     "start_time": "2020-08-27T15:32:40.126983",
     "status": "completed"
    },
    "tags": []
   },
   "outputs": [
    {
     "name": "stdout",
     "output_type": "stream",
     "text": [
      "Число уникальных значений:\n",
      "age                  53\n",
      "sex                   2\n",
      "job                   4\n",
      "housing               3\n",
      "saving_accounts       4\n",
      "checking_account      3\n",
      "credit_amount       921\n",
      "duration             33\n",
      "purpose               8\n",
      "risk                  2\n",
      "dtype: int64\n",
      "----------------------------------------------------------------------------------------------------\n",
      "Уникальная значения:\n",
      "age [67 22 49 45 53 35 61 28 25 24 60 32 44 31 48 26 36 39 42 34 63 27 30 57\n",
      " 33 37 58 23 29 52 50 46 51 41 40 66 47 56 54 20 21 38 70 65 74 68 43 55\n",
      " 64 75 19 62 59]\n",
      "sex ['male' 'female']\n",
      "job [2 1 3 0]\n",
      "housing ['own' 'free' 'rent']\n",
      "saving_accounts [nan 'little' 'quite rich' 'rich' 'moderate']\n",
      "checking_account ['little' 'moderate' nan 'rich']\n",
      "purpose ['radio/TV' 'education' 'furniture/equipment' 'car' 'business'\n",
      " 'domestic appliances' 'repairs' 'vacation/others']\n",
      "risk ['good' 'bad']\n"
     ]
    }
   ],
   "source": [
    "print(\"Число уникальных значений:\", df.nunique(), sep=\"\\n\")\n",
    "print(\"-\"*100, \"Уникальная значения:\", sep=\"\\n\")\n",
    "for num in df.columns:\n",
    "    if not num in (\"credit_amount\", \"duration\"):\n",
    "        print(num, df[num].unique())"
   ]
  },
  {
   "cell_type": "markdown",
   "metadata": {},
   "source": [
    "Уникальные значения соответствуют описанию"
   ]
  },
  {
   "cell_type": "markdown",
   "metadata": {},
   "source": [
    "## Пропуски"
   ]
  },
  {
   "cell_type": "code",
   "execution_count": 69,
   "metadata": {
    "execution": {
     "iopub.execute_input": "2020-08-27T15:32:40.221794Z",
     "iopub.status.busy": "2020-08-27T15:32:40.220999Z",
     "iopub.status.idle": "2020-08-27T15:32:40.468644Z",
     "shell.execute_reply": "2020-08-27T15:32:40.467878Z"
    },
    "papermill": {
     "duration": 0.280711,
     "end_time": "2020-08-27T15:32:40.468769",
     "exception": false,
     "start_time": "2020-08-27T15:32:40.188058",
     "status": "completed"
    },
    "tags": []
   },
   "outputs": [
    {
     "data": {
      "text/html": [
       "<style type=\"text/css\">\n",
       "#T_c7864_row0_col0, #T_c7864_row0_col1 {\n",
       "  background-color: #90ee90;\n",
       "  color: #000000;\n",
       "}\n",
       "#T_c7864_row1_col0, #T_c7864_row1_col1 {\n",
       "  background-color: #c2f0c2;\n",
       "  color: #000000;\n",
       "}\n",
       "#T_c7864_row2_col0, #T_c7864_row2_col1, #T_c7864_row3_col0, #T_c7864_row3_col1, #T_c7864_row4_col0, #T_c7864_row4_col1, #T_c7864_row5_col0, #T_c7864_row5_col1, #T_c7864_row6_col0, #T_c7864_row6_col1, #T_c7864_row7_col0, #T_c7864_row7_col1, #T_c7864_row8_col0, #T_c7864_row8_col1, #T_c7864_row9_col0, #T_c7864_row9_col1 {\n",
       "  background-color: #edf2ed;\n",
       "  color: #000000;\n",
       "}\n",
       "</style>\n",
       "<table id=\"T_c7864_\">\n",
       "  <thead>\n",
       "    <tr>\n",
       "      <th class=\"blank level0\" >&nbsp;</th>\n",
       "      <th class=\"col_heading level0 col0\" >missing_values</th>\n",
       "      <th class=\"col_heading level0 col1\" >%</th>\n",
       "    </tr>\n",
       "  </thead>\n",
       "  <tbody>\n",
       "    <tr>\n",
       "      <th id=\"T_c7864_level0_row0\" class=\"row_heading level0 row0\" >checking_account</th>\n",
       "      <td id=\"T_c7864_row0_col0\" class=\"data row0 col0\" >394</td>\n",
       "      <td id=\"T_c7864_row0_col1\" class=\"data row0 col1\" >39</td>\n",
       "    </tr>\n",
       "    <tr>\n",
       "      <th id=\"T_c7864_level0_row1\" class=\"row_heading level0 row1\" >saving_accounts</th>\n",
       "      <td id=\"T_c7864_row1_col0\" class=\"data row1 col0\" >183</td>\n",
       "      <td id=\"T_c7864_row1_col1\" class=\"data row1 col1\" >18</td>\n",
       "    </tr>\n",
       "    <tr>\n",
       "      <th id=\"T_c7864_level0_row2\" class=\"row_heading level0 row2\" >age</th>\n",
       "      <td id=\"T_c7864_row2_col0\" class=\"data row2 col0\" >0</td>\n",
       "      <td id=\"T_c7864_row2_col1\" class=\"data row2 col1\" >0</td>\n",
       "    </tr>\n",
       "    <tr>\n",
       "      <th id=\"T_c7864_level0_row3\" class=\"row_heading level0 row3\" >sex</th>\n",
       "      <td id=\"T_c7864_row3_col0\" class=\"data row3 col0\" >0</td>\n",
       "      <td id=\"T_c7864_row3_col1\" class=\"data row3 col1\" >0</td>\n",
       "    </tr>\n",
       "    <tr>\n",
       "      <th id=\"T_c7864_level0_row4\" class=\"row_heading level0 row4\" >job</th>\n",
       "      <td id=\"T_c7864_row4_col0\" class=\"data row4 col0\" >0</td>\n",
       "      <td id=\"T_c7864_row4_col1\" class=\"data row4 col1\" >0</td>\n",
       "    </tr>\n",
       "    <tr>\n",
       "      <th id=\"T_c7864_level0_row5\" class=\"row_heading level0 row5\" >housing</th>\n",
       "      <td id=\"T_c7864_row5_col0\" class=\"data row5 col0\" >0</td>\n",
       "      <td id=\"T_c7864_row5_col1\" class=\"data row5 col1\" >0</td>\n",
       "    </tr>\n",
       "    <tr>\n",
       "      <th id=\"T_c7864_level0_row6\" class=\"row_heading level0 row6\" >credit_amount</th>\n",
       "      <td id=\"T_c7864_row6_col0\" class=\"data row6 col0\" >0</td>\n",
       "      <td id=\"T_c7864_row6_col1\" class=\"data row6 col1\" >0</td>\n",
       "    </tr>\n",
       "    <tr>\n",
       "      <th id=\"T_c7864_level0_row7\" class=\"row_heading level0 row7\" >duration</th>\n",
       "      <td id=\"T_c7864_row7_col0\" class=\"data row7 col0\" >0</td>\n",
       "      <td id=\"T_c7864_row7_col1\" class=\"data row7 col1\" >0</td>\n",
       "    </tr>\n",
       "    <tr>\n",
       "      <th id=\"T_c7864_level0_row8\" class=\"row_heading level0 row8\" >purpose</th>\n",
       "      <td id=\"T_c7864_row8_col0\" class=\"data row8 col0\" >0</td>\n",
       "      <td id=\"T_c7864_row8_col1\" class=\"data row8 col1\" >0</td>\n",
       "    </tr>\n",
       "    <tr>\n",
       "      <th id=\"T_c7864_level0_row9\" class=\"row_heading level0 row9\" >risk</th>\n",
       "      <td id=\"T_c7864_row9_col0\" class=\"data row9 col0\" >0</td>\n",
       "      <td id=\"T_c7864_row9_col1\" class=\"data row9 col1\" >0</td>\n",
       "    </tr>\n",
       "  </tbody>\n",
       "</table>\n"
      ],
      "text/plain": [
       "<pandas.io.formats.style.Styler at 0x264a8dc2220>"
      ]
     },
     "execution_count": 69,
     "metadata": {},
     "output_type": "execute_result"
    }
   ],
   "source": [
    "def missing_value_table(df):\n",
    "    missing_value = df.isna().sum().sort_values(ascending=False)\n",
    "    missing_value_percent = 100 * df.isna().sum()//len(df)\n",
    "    missing_value_table = pd.concat([missing_value, missing_value_percent], axis=1)\n",
    "    missing_value_table_return = missing_value_table.rename(columns = {0 : 'missing_values', 1 : '%'})\n",
    "    cm = sns.light_palette(\"lightgreen\", as_cmap=True)\n",
    "    missing_value_table_return = missing_value_table_return.style.background_gradient(cmap=cm)\n",
    "    return missing_value_table_return\n",
    "  \n",
    "missing_value_table(df)"
   ]
  },
  {
   "cell_type": "markdown",
   "metadata": {},
   "source": [
    "saving_accounts и checking_account имеют пропущенные значения, причем % довольно большой, особенно для checking_account"
   ]
  },
  {
   "cell_type": "markdown",
   "metadata": {},
   "source": [
    "## Кросс таблицы"
   ]
  },
  {
   "cell_type": "code",
   "execution_count": 77,
   "metadata": {
    "execution": {
     "iopub.execute_input": "2020-08-27T15:32:40.526739Z",
     "iopub.status.busy": "2020-08-27T15:32:40.519661Z",
     "iopub.status.idle": "2020-08-27T15:32:40.553792Z",
     "shell.execute_reply": "2020-08-27T15:32:40.554399Z"
    },
    "papermill": {
     "duration": 0.064906,
     "end_time": "2020-08-27T15:32:40.554567",
     "exception": false,
     "start_time": "2020-08-27T15:32:40.489661",
     "status": "completed"
    },
    "tags": []
   },
   "outputs": [
    {
     "data": {
      "text/html": [
       "<div>\n",
       "<style scoped>\n",
       "    .dataframe tbody tr th:only-of-type {\n",
       "        vertical-align: middle;\n",
       "    }\n",
       "\n",
       "    .dataframe tbody tr th {\n",
       "        vertical-align: top;\n",
       "    }\n",
       "\n",
       "    .dataframe thead th {\n",
       "        text-align: right;\n",
       "    }\n",
       "</style>\n",
       "<table border=\"1\" class=\"dataframe\">\n",
       "  <thead>\n",
       "    <tr style=\"text-align: right;\">\n",
       "      <th>risk</th>\n",
       "      <th>bad</th>\n",
       "      <th>good</th>\n",
       "    </tr>\n",
       "    <tr>\n",
       "      <th>sex</th>\n",
       "      <th></th>\n",
       "      <th></th>\n",
       "    </tr>\n",
       "  </thead>\n",
       "  <tbody>\n",
       "    <tr>\n",
       "      <th>female</th>\n",
       "      <td>0.109</td>\n",
       "      <td>0.201</td>\n",
       "    </tr>\n",
       "    <tr>\n",
       "      <th>male</th>\n",
       "      <td>0.191</td>\n",
       "      <td>0.499</td>\n",
       "    </tr>\n",
       "  </tbody>\n",
       "</table>\n",
       "</div>"
      ],
      "text/plain": [
       "risk      bad   good\n",
       "sex                 \n",
       "female  0.109  0.201\n",
       "male    0.191  0.499"
      ]
     },
     "execution_count": 77,
     "metadata": {},
     "output_type": "execute_result"
    }
   ],
   "source": [
    "pd.crosstab(df[\"sex\"],df[\"risk\"], normalize=True)"
   ]
  },
  {
   "cell_type": "code",
   "execution_count": 78,
   "metadata": {
    "execution": {
     "iopub.execute_input": "2020-08-27T15:32:40.606434Z",
     "iopub.status.busy": "2020-08-27T15:32:40.605673Z",
     "iopub.status.idle": "2020-08-27T15:32:40.625376Z",
     "shell.execute_reply": "2020-08-27T15:32:40.624743Z"
    },
    "papermill": {
     "duration": 0.048785,
     "end_time": "2020-08-27T15:32:40.625510",
     "exception": false,
     "start_time": "2020-08-27T15:32:40.576725",
     "status": "completed"
    },
    "tags": []
   },
   "outputs": [
    {
     "data": {
      "text/html": [
       "<div>\n",
       "<style scoped>\n",
       "    .dataframe tbody tr th:only-of-type {\n",
       "        vertical-align: middle;\n",
       "    }\n",
       "\n",
       "    .dataframe tbody tr th {\n",
       "        vertical-align: top;\n",
       "    }\n",
       "\n",
       "    .dataframe thead th {\n",
       "        text-align: right;\n",
       "    }\n",
       "</style>\n",
       "<table border=\"1\" class=\"dataframe\">\n",
       "  <thead>\n",
       "    <tr style=\"text-align: right;\">\n",
       "      <th>risk</th>\n",
       "      <th>bad</th>\n",
       "      <th>good</th>\n",
       "    </tr>\n",
       "    <tr>\n",
       "      <th>housing</th>\n",
       "      <th></th>\n",
       "      <th></th>\n",
       "    </tr>\n",
       "  </thead>\n",
       "  <tbody>\n",
       "    <tr>\n",
       "      <th>free</th>\n",
       "      <td>0.044</td>\n",
       "      <td>0.064</td>\n",
       "    </tr>\n",
       "    <tr>\n",
       "      <th>own</th>\n",
       "      <td>0.186</td>\n",
       "      <td>0.527</td>\n",
       "    </tr>\n",
       "    <tr>\n",
       "      <th>rent</th>\n",
       "      <td>0.070</td>\n",
       "      <td>0.109</td>\n",
       "    </tr>\n",
       "  </tbody>\n",
       "</table>\n",
       "</div>"
      ],
      "text/plain": [
       "risk       bad   good\n",
       "housing              \n",
       "free     0.044  0.064\n",
       "own      0.186  0.527\n",
       "rent     0.070  0.109"
      ]
     },
     "execution_count": 78,
     "metadata": {},
     "output_type": "execute_result"
    }
   ],
   "source": [
    "pd.crosstab(df[\"housing\"],df[\"risk\"], normalize=True)"
   ]
  },
  {
   "cell_type": "markdown",
   "metadata": {},
   "source": [
    "Вывод: по кросс таблицам - риск не особо зависит от пола. Обладатели своего жилья чаще хорошие заемщики, чем остальные"
   ]
  },
  {
   "cell_type": "markdown",
   "metadata": {
    "papermill": {
     "duration": 0.021156,
     "end_time": "2020-08-27T15:32:40.719636",
     "exception": false,
     "start_time": "2020-08-27T15:32:40.698480",
     "status": "completed"
    },
    "tags": []
   },
   "source": [
    "## Сделаем anova тест для проверки нулевой гипотезы о равенстве средних credit_amount для групп purpose (то есть хотим проверить гипотезу о том, что в среднем сумма выданных кредитов распределена равномерно в зависимости от цели кредита)"
   ]
  },
  {
   "cell_type": "code",
   "execution_count": 84,
   "metadata": {
    "execution": {
     "iopub.execute_input": "2020-08-27T15:32:40.779524Z",
     "iopub.status.busy": "2020-08-27T15:32:40.778453Z",
     "iopub.status.idle": "2020-08-27T15:32:40.783379Z",
     "shell.execute_reply": "2020-08-27T15:32:40.782774Z"
    },
    "papermill": {
     "duration": 0.042308,
     "end_time": "2020-08-27T15:32:40.783527",
     "exception": false,
     "start_time": "2020-08-27T15:32:40.741219",
     "status": "completed"
    },
    "tags": []
   },
   "outputs": [
    {
     "data": {
      "text/html": [
       "<div>\n",
       "<style scoped>\n",
       "    .dataframe tbody tr th:only-of-type {\n",
       "        vertical-align: middle;\n",
       "    }\n",
       "\n",
       "    .dataframe tbody tr th {\n",
       "        vertical-align: top;\n",
       "    }\n",
       "\n",
       "    .dataframe thead th {\n",
       "        text-align: right;\n",
       "    }\n",
       "</style>\n",
       "<table border=\"1\" class=\"dataframe\">\n",
       "  <thead>\n",
       "    <tr style=\"text-align: right;\">\n",
       "      <th></th>\n",
       "      <th>age</th>\n",
       "      <th>sex</th>\n",
       "      <th>job</th>\n",
       "      <th>housing</th>\n",
       "      <th>saving_accounts</th>\n",
       "      <th>checking_account</th>\n",
       "      <th>credit_amount</th>\n",
       "      <th>duration</th>\n",
       "      <th>purpose</th>\n",
       "      <th>risk</th>\n",
       "    </tr>\n",
       "  </thead>\n",
       "  <tbody>\n",
       "    <tr>\n",
       "      <th>0</th>\n",
       "      <td>67</td>\n",
       "      <td>male</td>\n",
       "      <td>2</td>\n",
       "      <td>own</td>\n",
       "      <td>NaN</td>\n",
       "      <td>little</td>\n",
       "      <td>1169</td>\n",
       "      <td>6</td>\n",
       "      <td>radio/TV</td>\n",
       "      <td>good</td>\n",
       "    </tr>\n",
       "    <tr>\n",
       "      <th>1</th>\n",
       "      <td>22</td>\n",
       "      <td>female</td>\n",
       "      <td>2</td>\n",
       "      <td>own</td>\n",
       "      <td>little</td>\n",
       "      <td>moderate</td>\n",
       "      <td>5951</td>\n",
       "      <td>48</td>\n",
       "      <td>radio/TV</td>\n",
       "      <td>bad</td>\n",
       "    </tr>\n",
       "  </tbody>\n",
       "</table>\n",
       "</div>"
      ],
      "text/plain": [
       "   age     sex  job housing saving_accounts checking_account  credit_amount  \\\n",
       "0   67    male    2     own             NaN           little           1169   \n",
       "1   22  female    2     own          little         moderate           5951   \n",
       "\n",
       "   duration   purpose  risk  \n",
       "0         6  radio/TV  good  \n",
       "1        48  radio/TV   bad  "
      ]
     },
     "execution_count": 84,
     "metadata": {},
     "output_type": "execute_result"
    }
   ],
   "source": [
    "df.head(2)"
   ]
  },
  {
   "cell_type": "code",
   "execution_count": 92,
   "metadata": {
    "execution": {
     "iopub.execute_input": "2020-08-27T15:32:40.837990Z",
     "iopub.status.busy": "2020-08-27T15:32:40.836812Z",
     "iopub.status.idle": "2020-08-27T15:32:40.845163Z",
     "shell.execute_reply": "2020-08-27T15:32:40.844546Z"
    },
    "papermill": {
     "duration": 0.039669,
     "end_time": "2020-08-27T15:32:40.845283",
     "exception": false,
     "start_time": "2020-08-27T15:32:40.805614",
     "status": "completed"
    },
    "tags": []
   },
   "outputs": [],
   "source": [
    "from scipy import stats\n",
    "\n",
    "df1 = df.copy()\n",
    "\n",
    "df1 = df1[[\"credit_amount\",\"purpose\"]]\n",
    "\n",
    "group = pd.unique(df1.purpose.values)\n",
    "\n",
    "d_v1 = {grp:df1[\"credit_amount\"][df1.purpose == grp] for grp in group}\n"
   ]
  },
  {
   "cell_type": "code",
   "execution_count": 93,
   "metadata": {
    "execution": {
     "iopub.execute_input": "2020-08-27T15:32:41.090742Z",
     "iopub.status.busy": "2020-08-27T15:32:41.089670Z",
     "iopub.status.idle": "2020-08-27T15:32:41.095055Z",
     "shell.execute_reply": "2020-08-27T15:32:41.094296Z"
    },
    "papermill": {
     "duration": 0.03675,
     "end_time": "2020-08-27T15:32:41.095184",
     "exception": false,
     "start_time": "2020-08-27T15:32:41.058434",
     "status": "completed"
    },
    "tags": []
   },
   "outputs": [
    {
     "data": {
      "text/plain": [
       "'F statistics: 13.34142171179633 | P value : 1.585947764999813e-16'"
      ]
     },
     "execution_count": 93,
     "metadata": {},
     "output_type": "execute_result"
    }
   ],
   "source": [
    "f, p = stats.f_oneway(d_v1['radio/TV'],d_v1['furniture/equipment'],d_v1['car'],d_v1['business'],d_v1['domestic appliances'],d_v1['repairs'],\n",
    "                     d_v1['vacation/others'],d_v1['education'])\n",
    "\n",
    "(\"F statistics: \"+str(f)+\" | P value : \"+str(p))"
   ]
  },
  {
   "cell_type": "markdown",
   "metadata": {
    "papermill": {
     "duration": 0.022893,
     "end_time": "2020-08-27T15:32:41.140865",
     "exception": false,
     "start_time": "2020-08-27T15:32:41.117972",
     "status": "completed"
    },
    "tags": []
   },
   "source": [
    "### H0: Значимых различий средних по группам нет.\n",
    "\n",
    "### H1: По крайней мере, среднее значение одной группы отличается.\n",
    "\n",
    "### P value < 0.05\n",
    "\n",
    "### Результат: отклоняем нулевую гипотезу."
   ]
  },
  {
   "cell_type": "code",
   "execution_count": 15,
   "metadata": {
    "execution": {
     "iopub.execute_input": "2020-08-27T15:32:41.201473Z",
     "iopub.status.busy": "2020-08-27T15:32:41.194581Z",
     "iopub.status.idle": "2020-08-27T15:32:41.205610Z",
     "shell.execute_reply": "2020-08-27T15:32:41.206236Z"
    },
    "papermill": {
     "duration": 0.043018,
     "end_time": "2020-08-27T15:32:41.206426",
     "exception": false,
     "start_time": "2020-08-27T15:32:41.163408",
     "status": "completed"
    },
    "tags": []
   },
   "outputs": [
    {
     "data": {
      "text/html": [
       "<div>\n",
       "<style scoped>\n",
       "    .dataframe tbody tr th:only-of-type {\n",
       "        vertical-align: middle;\n",
       "    }\n",
       "\n",
       "    .dataframe tbody tr th {\n",
       "        vertical-align: top;\n",
       "    }\n",
       "\n",
       "    .dataframe thead th {\n",
       "        text-align: right;\n",
       "    }\n",
       "</style>\n",
       "<table border=\"1\" class=\"dataframe\">\n",
       "  <thead>\n",
       "    <tr style=\"text-align: right;\">\n",
       "      <th></th>\n",
       "      <th>Credit amount</th>\n",
       "    </tr>\n",
       "    <tr>\n",
       "      <th>Purpose</th>\n",
       "      <th></th>\n",
       "    </tr>\n",
       "  </thead>\n",
       "  <tbody>\n",
       "    <tr>\n",
       "      <th>business</th>\n",
       "      <td>12.329507</td>\n",
       "    </tr>\n",
       "    <tr>\n",
       "      <th>car</th>\n",
       "      <td>38.819347</td>\n",
       "    </tr>\n",
       "    <tr>\n",
       "      <th>domestic appliances</th>\n",
       "      <td>0.549513</td>\n",
       "    </tr>\n",
       "    <tr>\n",
       "      <th>education</th>\n",
       "      <td>5.192895</td>\n",
       "    </tr>\n",
       "    <tr>\n",
       "      <th>furniture/equipment</th>\n",
       "      <td>16.969771</td>\n",
       "    </tr>\n",
       "    <tr>\n",
       "      <th>radio/TV</th>\n",
       "      <td>21.292818</td>\n",
       "    </tr>\n",
       "    <tr>\n",
       "      <th>repairs</th>\n",
       "      <td>1.834707</td>\n",
       "    </tr>\n",
       "    <tr>\n",
       "      <th>vacation/others</th>\n",
       "      <td>3.011441</td>\n",
       "    </tr>\n",
       "  </tbody>\n",
       "</table>\n",
       "</div>"
      ],
      "text/plain": [
       "                     Credit amount\n",
       "Purpose                           \n",
       "business                 12.329507\n",
       "car                      38.819347\n",
       "domestic appliances       0.549513\n",
       "education                 5.192895\n",
       "furniture/equipment      16.969771\n",
       "radio/TV                 21.292818\n",
       "repairs                   1.834707\n",
       "vacation/others           3.011441"
      ]
     },
     "execution_count": 15,
     "metadata": {},
     "output_type": "execute_result"
    }
   ],
   "source": [
    "(df.groupby(by=[\"Purpose\"])[[\"Credit amount\"]].agg(\"sum\") / df[\"Credit amount\"].sum())*100"
   ]
  },
  {
   "cell_type": "markdown",
   "metadata": {
    "papermill": {
     "duration": 0.022497,
     "end_time": "2020-08-27T15:32:41.251763",
     "exception": false,
     "start_time": "2020-08-27T15:32:41.229266",
     "status": "completed"
    },
    "tags": []
   },
   "source": [
    "В результате между группами наблюдается различие.\n",
    "В dataframe, полученным сверху, видна разница."
   ]
  },
  {
   "cell_type": "markdown",
   "metadata": {
    "papermill": {
     "duration": 0.022226,
     "end_time": "2020-08-27T15:32:41.296616",
     "exception": false,
     "start_time": "2020-08-27T15:32:41.274390",
     "status": "completed"
    },
    "tags": []
   },
   "source": [
    "# Визуализация"
   ]
  },
  {
   "cell_type": "markdown",
   "metadata": {},
   "source": [
    "Гистограммы для возраста, суммы кредиты, дюрации"
   ]
  },
  {
   "cell_type": "code",
   "execution_count": 122,
   "metadata": {
    "execution": {
     "iopub.execute_input": "2020-08-27T15:32:41.353782Z",
     "iopub.status.busy": "2020-08-27T15:32:41.352971Z",
     "iopub.status.idle": "2020-08-27T15:32:43.452290Z",
     "shell.execute_reply": "2020-08-27T15:32:43.452886Z"
    },
    "papermill": {
     "duration": 2.13389,
     "end_time": "2020-08-27T15:32:43.453047",
     "exception": false,
     "start_time": "2020-08-27T15:32:41.319157",
     "status": "completed"
    },
    "tags": []
   },
   "outputs": [
    {
     "data": {
      "image/png": "[encoded data removed]",
      "text/plain": [
       "<Figure size 864x864 with 3 Axes>"
      ]
     },
     "metadata": {},
     "output_type": "display_data"
    }
   ],
   "source": [
    "sns.set(font_scale=1,style=\"whitegrid\")\n",
    "fig,ax=plt.subplots(nrows=3,figsize=(12,12))\n",
    "cat_list=[\"age\",\"credit_amount\",\"duration\"]\n",
    "\n",
    "for i in range(3):\n",
    "    ax[i].hist(df[cat_list[i]], color=\"g\")\n",
    "    ax[i].set_xlabel(cat_list[i])"
   ]
  },
  {
   "cell_type": "markdown",
   "metadata": {
    "papermill": {
     "duration": 0.023119,
     "end_time": "2020-08-27T15:32:43.499653",
     "exception": false,
     "start_time": "2020-08-27T15:32:43.476534",
     "status": "completed"
    },
    "tags": []
   },
   "source": [
    "Добавим переменные месячый платеж и квадрат суммы кредита"
   ]
  },
  {
   "cell_type": "code",
   "execution_count": 124,
   "metadata": {
    "execution": {
     "iopub.execute_input": "2020-08-27T15:32:43.560916Z",
     "iopub.status.busy": "2020-08-27T15:32:43.560045Z",
     "iopub.status.idle": "2020-08-27T15:32:43.563631Z",
     "shell.execute_reply": "2020-08-27T15:32:43.563004Z"
    },
    "papermill": {
     "duration": 0.039612,
     "end_time": "2020-08-27T15:32:43.563754",
     "exception": false,
     "start_time": "2020-08-27T15:32:43.524142",
     "status": "completed"
    },
    "tags": []
   },
   "outputs": [],
   "source": [
    "df[\"monthly_pay\"] = (df[\"credit_amount\"] / df[\"duration\"])\n",
    "df[\"credit_amount^2\"] = df[\"credit_amount\"]**2"
   ]
  },
  {
   "cell_type": "markdown",
   "metadata": {
    "papermill": {
     "duration": 0.023559,
     "end_time": "2020-08-27T15:32:43.611407",
     "exception": false,
     "start_time": "2020-08-27T15:32:43.587848",
     "status": "completed"
    },
    "tags": []
   },
   "source": [
    "Разобьем дюрацию и возраст на промежутки для дальнейшей визуализации"
   ]
  },
  {
   "cell_type": "code",
   "execution_count": 125,
   "metadata": {
    "execution": {
     "iopub.execute_input": "2020-08-27T15:32:43.673829Z",
     "iopub.status.busy": "2020-08-27T15:32:43.672899Z",
     "iopub.status.idle": "2020-08-27T15:32:43.685737Z",
     "shell.execute_reply": "2020-08-27T15:32:43.685073Z"
    },
    "papermill": {
     "duration": 0.050581,
     "end_time": "2020-08-27T15:32:43.685866",
     "exception": false,
     "start_time": "2020-08-27T15:32:43.635285",
     "status": "completed"
    },
    "tags": []
   },
   "outputs": [],
   "source": [
    "df.insert(1,\"gap_age\",np.NaN)\n",
    "df.loc[df[\"age\"]<25,\"gap_age\"]=\"0-25\"\n",
    "df.loc[((df[\"age\"]>=25) & (df[\"age\"]<30)),\"gap_age\"]=\"25-30\"\n",
    "df.loc[((df[\"age\"]>=30) & (df[\"age\"]<35)),\"gap_age\"]=\"30-35\"\n",
    "df.loc[((df[\"age\"]>=35) & (df[\"age\"]<40)),\"gap_age\"]=\"35-40\"\n",
    "df.loc[((df[\"age\"]>=40) & (df[\"age\"]<50)),\"gap_age\"]=\"40-50\"\n",
    "df.loc[((df[\"age\"]>=50) & (df[\"age\"]<76)),\"gap_age\"]=\"50-75\""
   ]
  },
  {
   "cell_type": "code",
   "execution_count": 126,
   "metadata": {
    "execution": {
     "iopub.execute_input": "2020-08-27T15:32:43.748961Z",
     "iopub.status.busy": "2020-08-27T15:32:43.747817Z",
     "iopub.status.idle": "2020-08-27T15:32:44.372478Z",
     "shell.execute_reply": "2020-08-27T15:32:44.371759Z"
    },
    "papermill": {
     "duration": 0.662702,
     "end_time": "2020-08-27T15:32:44.372604",
     "exception": false,
     "start_time": "2020-08-27T15:32:43.709902",
     "status": "completed"
    },
    "tags": []
   },
   "outputs": [],
   "source": [
    "df.insert(9,\"gap_duration\",df[\"duration\"])\n",
    "for i in df[\"gap_duration\"]:\n",
    "    if i<12:\n",
    "        df[\"gap_duration\"]=df[\"gap_duration\"].replace(i,\"0-12\")\n",
    "    elif (i>=12) and (i<24):\n",
    "        df[\"gap_duration\"]=df[\"gap_duration\"].replace(i,\"12-24\")\n",
    "    elif (i>=24) and (i<36):\n",
    "        df[\"gap_duration\"]=df[\"gap_duration\"].replace(i,\"24-36\")\n",
    "    elif (i>=36) and (i<48):\n",
    "        df[\"gap_duration\"]=df[\"gap_duration\"].replace(i,\"36-48\")\n",
    "    elif (i>=48) and (i<60):\n",
    "        df[\"gap_duration\"]=df[\"gap_duration\"].replace(i,\"48-60\")\n",
    "    elif (i>=60) and (i<=72):\n",
    "        df[\"gap_duration\"]=df[\"gap_duration\"].replace(i,\"60-72\")"
   ]
  },
  {
   "cell_type": "code",
   "execution_count": 127,
   "metadata": {
    "execution": {
     "iopub.execute_input": "2020-08-27T15:32:44.434750Z",
     "iopub.status.busy": "2020-08-27T15:32:44.429829Z",
     "iopub.status.idle": "2020-08-27T15:32:44.438200Z",
     "shell.execute_reply": "2020-08-27T15:32:44.437362Z"
    },
    "papermill": {
     "duration": 0.041887,
     "end_time": "2020-08-27T15:32:44.438358",
     "exception": false,
     "start_time": "2020-08-27T15:32:44.396471",
     "status": "completed"
    },
    "tags": []
   },
   "outputs": [],
   "source": [
    "df.insert(4,\"type_job\",df[\"job\"])\n",
    "df[\"type_job\"]=df[\"type_job\"].astype(\"category\")\n",
    "df[\"type_job\"]=df[\"type_job\"].replace(0,\"unskilled\")\n",
    "df[\"type_job\"]=df[\"type_job\"].replace(1,\"resident\")\n",
    "df[\"type_job\"]=df[\"type_job\"].replace(2,\"skilled\")\n",
    "df[\"type_job\"]=df[\"type_job\"].replace(3,\"highly skilled\")"
   ]
  },
  {
   "cell_type": "code",
   "execution_count": 142,
   "metadata": {
    "execution": {
     "iopub.execute_input": "2020-08-27T15:32:44.499469Z",
     "iopub.status.busy": "2020-08-27T15:32:44.498673Z",
     "iopub.status.idle": "2020-08-27T15:32:44.502162Z",
     "shell.execute_reply": "2020-08-27T15:32:44.501542Z"
    },
    "papermill": {
     "duration": 0.039419,
     "end_time": "2020-08-27T15:32:44.502286",
     "exception": false,
     "start_time": "2020-08-27T15:32:44.462867",
     "status": "completed"
    },
    "tags": []
   },
   "outputs": [],
   "source": [
    "df[\"job\"]=pd.Categorical(df[\"job\"],categories=[0,1,2,3],ordered=True)\n",
    "df[\"gap_age\"]=pd.Categorical(df[\"gap_age\"],categories=['0-25','25-30', '30-35','35-40','40-50','50-75'])\n",
    "df[\"gap_duration\"]=pd.Categorical(df[\"gap_duration\"],categories=['0-12','12-24', '24-36','36-48','48-60','60-72'])"
   ]
  },
  {
   "cell_type": "code",
   "execution_count": 143,
   "metadata": {
    "execution": {
     "iopub.execute_input": "2020-08-27T15:32:44.573453Z",
     "iopub.status.busy": "2020-08-27T15:32:44.555965Z",
     "iopub.status.idle": "2020-08-27T15:32:44.578800Z",
     "shell.execute_reply": "2020-08-27T15:32:44.578065Z"
    },
    "papermill": {
     "duration": 0.052775,
     "end_time": "2020-08-27T15:32:44.578931",
     "exception": false,
     "start_time": "2020-08-27T15:32:44.526156",
     "status": "completed"
    },
    "scrolled": true,
    "tags": []
   },
   "outputs": [
    {
     "data": {
      "text/html": [
       "<div>\n",
       "<style scoped>\n",
       "    .dataframe tbody tr th:only-of-type {\n",
       "        vertical-align: middle;\n",
       "    }\n",
       "\n",
       "    .dataframe tbody tr th {\n",
       "        vertical-align: top;\n",
       "    }\n",
       "\n",
       "    .dataframe thead th {\n",
       "        text-align: right;\n",
       "    }\n",
       "</style>\n",
       "<table border=\"1\" class=\"dataframe\">\n",
       "  <thead>\n",
       "    <tr style=\"text-align: right;\">\n",
       "      <th></th>\n",
       "      <th>age</th>\n",
       "      <th>gap_age</th>\n",
       "      <th>sex</th>\n",
       "      <th>job</th>\n",
       "      <th>type_job</th>\n",
       "      <th>housing</th>\n",
       "      <th>saving_accounts</th>\n",
       "      <th>checking_account</th>\n",
       "      <th>credit_amount</th>\n",
       "      <th>duration</th>\n",
       "      <th>gap_duration</th>\n",
       "      <th>purpose</th>\n",
       "      <th>risk</th>\n",
       "      <th>monthly_pay</th>\n",
       "      <th>credit_amount^2</th>\n",
       "    </tr>\n",
       "  </thead>\n",
       "  <tbody>\n",
       "    <tr>\n",
       "      <th>0</th>\n",
       "      <td>67</td>\n",
       "      <td>50-75</td>\n",
       "      <td>male</td>\n",
       "      <td>2</td>\n",
       "      <td>skilled</td>\n",
       "      <td>own</td>\n",
       "      <td>NaN</td>\n",
       "      <td>little</td>\n",
       "      <td>1169</td>\n",
       "      <td>6</td>\n",
       "      <td>0-12</td>\n",
       "      <td>radio/TV</td>\n",
       "      <td>good</td>\n",
       "      <td>194.833333</td>\n",
       "      <td>1366561</td>\n",
       "    </tr>\n",
       "    <tr>\n",
       "      <th>1</th>\n",
       "      <td>22</td>\n",
       "      <td>0-25</td>\n",
       "      <td>female</td>\n",
       "      <td>2</td>\n",
       "      <td>skilled</td>\n",
       "      <td>own</td>\n",
       "      <td>little</td>\n",
       "      <td>moderate</td>\n",
       "      <td>5951</td>\n",
       "      <td>48</td>\n",
       "      <td>48-60</td>\n",
       "      <td>radio/TV</td>\n",
       "      <td>bad</td>\n",
       "      <td>123.979167</td>\n",
       "      <td>35414401</td>\n",
       "    </tr>\n",
       "    <tr>\n",
       "      <th>2</th>\n",
       "      <td>49</td>\n",
       "      <td>40-50</td>\n",
       "      <td>male</td>\n",
       "      <td>1</td>\n",
       "      <td>resident</td>\n",
       "      <td>own</td>\n",
       "      <td>little</td>\n",
       "      <td>NaN</td>\n",
       "      <td>2096</td>\n",
       "      <td>12</td>\n",
       "      <td>12-24</td>\n",
       "      <td>education</td>\n",
       "      <td>good</td>\n",
       "      <td>174.666667</td>\n",
       "      <td>4393216</td>\n",
       "    </tr>\n",
       "    <tr>\n",
       "      <th>3</th>\n",
       "      <td>45</td>\n",
       "      <td>40-50</td>\n",
       "      <td>male</td>\n",
       "      <td>2</td>\n",
       "      <td>skilled</td>\n",
       "      <td>free</td>\n",
       "      <td>little</td>\n",
       "      <td>little</td>\n",
       "      <td>7882</td>\n",
       "      <td>42</td>\n",
       "      <td>36-48</td>\n",
       "      <td>furniture/equipment</td>\n",
       "      <td>good</td>\n",
       "      <td>187.666667</td>\n",
       "      <td>62125924</td>\n",
       "    </tr>\n",
       "    <tr>\n",
       "      <th>4</th>\n",
       "      <td>53</td>\n",
       "      <td>50-75</td>\n",
       "      <td>male</td>\n",
       "      <td>2</td>\n",
       "      <td>skilled</td>\n",
       "      <td>free</td>\n",
       "      <td>little</td>\n",
       "      <td>little</td>\n",
       "      <td>4870</td>\n",
       "      <td>24</td>\n",
       "      <td>24-36</td>\n",
       "      <td>car</td>\n",
       "      <td>bad</td>\n",
       "      <td>202.916667</td>\n",
       "      <td>23716900</td>\n",
       "    </tr>\n",
       "  </tbody>\n",
       "</table>\n",
       "</div>"
      ],
      "text/plain": [
       "   age gap_age     sex job  type_job housing saving_accounts checking_account  \\\n",
       "0   67   50-75    male   2   skilled     own             NaN           little   \n",
       "1   22    0-25  female   2   skilled     own          little         moderate   \n",
       "2   49   40-50    male   1  resident     own          little              NaN   \n",
       "3   45   40-50    male   2   skilled    free          little           little   \n",
       "4   53   50-75    male   2   skilled    free          little           little   \n",
       "\n",
       "   credit_amount  duration gap_duration              purpose  risk  \\\n",
       "0           1169         6         0-12             radio/TV  good   \n",
       "1           5951        48        48-60             radio/TV   bad   \n",
       "2           2096        12        12-24            education  good   \n",
       "3           7882        42        36-48  furniture/equipment  good   \n",
       "4           4870        24        24-36                  car   bad   \n",
       "\n",
       "   monthly_pay  credit_amount^2  \n",
       "0   194.833333          1366561  \n",
       "1   123.979167         35414401  \n",
       "2   174.666667          4393216  \n",
       "3   187.666667         62125924  \n",
       "4   202.916667         23716900  "
      ]
     },
     "execution_count": 143,
     "metadata": {},
     "output_type": "execute_result"
    }
   ],
   "source": [
    "df.head()"
   ]
  },
  {
   "cell_type": "markdown",
   "metadata": {},
   "source": [
    "### Диаграмма для риска"
   ]
  },
  {
   "cell_type": "code",
   "execution_count": 181,
   "metadata": {
    "execution": {
     "iopub.execute_input": "2020-08-27T15:32:44.736449Z",
     "iopub.status.busy": "2020-08-27T15:32:44.732852Z",
     "iopub.status.idle": "2020-08-27T15:32:44.959369Z",
     "shell.execute_reply": "2020-08-27T15:32:44.958632Z"
    },
    "papermill": {
     "duration": 0.260944,
     "end_time": "2020-08-27T15:32:44.959490",
     "exception": false,
     "start_time": "2020-08-27T15:32:44.698546",
     "status": "completed"
    },
    "tags": []
   },
   "outputs": [
    {
     "data": {
      "image/png": "[encoded data removed]",
      "text/plain": [
       "<Figure size 1152x360 with 2 Axes>"
      ]
     },
     "metadata": {},
     "output_type": "display_data"
    }
   ],
   "source": [
    "fig,ax=plt.subplots(ncols=2,figsize=(16,5))\n",
    "ax[0].pie(df[\"risk\"].value_counts(), labels=df[\"risk\"].value_counts().index, autopct='%1.2f%%', colors = [\"b\", \"g\"])\n",
    "ax[1].bar(df[\"risk\"].value_counts().index, df[\"risk\"].value_counts(), color = [\"b\", \"g\"])\n",
    "plt.show()"
   ]
  },
  {
   "cell_type": "markdown",
   "metadata": {},
   "source": [
    "## Распределение факторов заемщиков"
   ]
  },
  {
   "cell_type": "code",
   "execution_count": 196,
   "metadata": {
    "execution": {
     "iopub.execute_input": "2020-08-27T15:32:45.024976Z",
     "iopub.status.busy": "2020-08-27T15:32:45.019366Z",
     "iopub.status.idle": "2020-08-27T15:32:46.053550Z",
     "shell.execute_reply": "2020-08-27T15:32:46.052766Z"
    },
    "papermill": {
     "duration": 1.069087,
     "end_time": "2020-08-27T15:32:46.053677",
     "exception": false,
     "start_time": "2020-08-27T15:32:44.984590",
     "status": "completed"
    },
    "tags": []
   },
   "outputs": [
    {
     "data": {
      "image/png": "[encoded data removed]",
      "text/plain": [
       "<Figure size 1152x1584 with 6 Axes>"
      ]
     },
     "metadata": {},
     "output_type": "display_data"
    }
   ],
   "source": [
    "fig,ax=plt.subplots(ncols=2,nrows=3,figsize=(16,22))\n",
    "cat_list=[\"gap_age\",\"sex\",\"type_job\",\"housing\",\"gap_duration\",\"purpose\"]\n",
    "palette=[\"red\",\"blue\",\"purple\",\"green\",\"black\",\"cyan\"]\n",
    "count=0\n",
    "for i in range(3):\n",
    "    for j in range(2):\n",
    "        ax[i, j].bar(df[cat_list[count]].value_counts().index, df[cat_list[count]].value_counts(), color=palette[count], alpha=0.5)\n",
    "        ax[i, j].set_xlabel(cat_list[count])\n",
    "        count+=1"
   ]
  },
  {
   "cell_type": "code",
   "execution_count": 214,
   "metadata": {
    "execution": {
     "iopub.execute_input": "2020-08-27T15:32:46.460256Z",
     "iopub.status.busy": "2020-08-27T15:32:46.459489Z",
     "iopub.status.idle": "2020-08-27T15:32:46.660978Z",
     "shell.execute_reply": "2020-08-27T15:32:46.660267Z"
    },
    "papermill": {
     "duration": 0.235149,
     "end_time": "2020-08-27T15:32:46.661103",
     "exception": false,
     "start_time": "2020-08-27T15:32:46.425954",
     "status": "completed"
    },
    "scrolled": true,
    "tags": []
   },
   "outputs": [
    {
     "data": {
      "image/png": "[encoded data removed]",
      "text/plain": [
       "<Figure size 1152x360 with 1 Axes>"
      ]
     },
     "metadata": {},
     "output_type": "display_data"
    }
   ],
   "source": [
    "plt.figure(figsize=(16,5))\n",
    "sns.countplot(x=\"housing\", hue=\"risk\", data=df).set_title(\"Диаграмма housing в зависимости от риска\", fontsize=15);\n",
    "plt.show()"
   ]
  },
  {
   "cell_type": "markdown",
   "metadata": {},
   "source": [
    "Заемщики с собственным жильем - надежнее"
   ]
  },
  {
   "cell_type": "code",
   "execution_count": 219,
   "metadata": {
    "execution": {
     "iopub.execute_input": "2020-08-27T15:32:46.728899Z",
     "iopub.status.busy": "2020-08-27T15:32:46.722726Z",
     "iopub.status.idle": "2020-08-27T15:32:47.124180Z",
     "shell.execute_reply": "2020-08-27T15:32:47.123417Z"
    },
    "papermill": {
     "duration": 0.436469,
     "end_time": "2020-08-27T15:32:47.124310",
     "exception": false,
     "start_time": "2020-08-27T15:32:46.687841",
     "status": "completed"
    },
    "tags": []
   },
   "outputs": [
    {
     "data": {
      "image/png": "[encoded data removed]",
      "text/plain": [
       "<Figure size 1152x360 with 2 Axes>"
      ]
     },
     "metadata": {},
     "output_type": "display_data"
    }
   ],
   "source": [
    "fig, (ax1, ax2) = plt.subplots(1,2, figsize=(16,5))\n",
    "sns.countplot(x=\"saving_accounts\", hue=\"risk\", data=df, ax=ax1);\n",
    "sns.countplot(x=\"checking_account\", hue=\"risk\", data=df, ax=ax2);\n",
    "ax1.set_xticklabels(ax1.get_xticklabels(), rotation=45)\n",
    "ax2.set_xticklabels(ax2.get_xticklabels(), rotation=45)\n",
    "plt.show()"
   ]
  },
  {
   "cell_type": "markdown",
   "metadata": {},
   "source": [
    "У людей с cheking account весьма много просрочек, чем cheking account больше, тем надежнее замщик. saving account - quite rich и rich - такие замщики более надежные."
   ]
  },
  {
   "cell_type": "code",
   "execution_count": 224,
   "metadata": {
    "execution": {
     "iopub.execute_input": "2020-08-27T15:32:47.187005Z",
     "iopub.status.busy": "2020-08-27T15:32:47.186212Z",
     "iopub.status.idle": "2020-08-27T15:32:47.709710Z",
     "shell.execute_reply": "2020-08-27T15:32:47.708973Z"
    },
    "papermill": {
     "duration": 0.557898,
     "end_time": "2020-08-27T15:32:47.709836",
     "exception": false,
     "start_time": "2020-08-27T15:32:47.151938",
     "status": "completed"
    },
    "tags": []
   },
   "outputs": [
    {
     "data": {
      "text/plain": [
       "<AxesSubplot:xlabel='sex', ylabel='age'>"
      ]
     },
     "execution_count": 224,
     "metadata": {},
     "output_type": "execute_result"
    },
    {
     "data": {
      "image/png": "[encoded data removed]",
      "text/plain": [
       "<Figure size 1152x360 with 1 Axes>"
      ]
     },
     "metadata": {},
     "output_type": "display_data"
    }
   ],
   "source": [
    "plt.figure(figsize=(16,5))\n",
    "sns.barplot(data=df,x=\"sex\",y=\"age\",hue=\"type_job\")"
   ]
  },
  {
   "cell_type": "markdown",
   "metadata": {},
   "source": [
    "Вертикальные линии - доверительный интервалы. Здесь видим, что в общем то мужчины от женщин не отличаются, кроме того, что мужчины высококваллифицированы в интервале от 35-60 (среднее 47), а женщины - от 28 до 45 (среднее 33) - у мужчин больше интервал и среднее больше, высококвал. мужчины в среднем старше."
   ]
  },
  {
   "cell_type": "code",
   "execution_count": 225,
   "metadata": {
    "execution": {
     "iopub.execute_input": "2020-08-27T15:32:47.778945Z",
     "iopub.status.busy": "2020-08-27T15:32:47.774546Z",
     "iopub.status.idle": "2020-08-27T15:32:48.026312Z",
     "shell.execute_reply": "2020-08-27T15:32:48.026912Z"
    },
    "papermill": {
     "duration": 0.289997,
     "end_time": "2020-08-27T15:32:48.027062",
     "exception": false,
     "start_time": "2020-08-27T15:32:47.737065",
     "status": "completed"
    },
    "tags": []
   },
   "outputs": [
    {
     "data": {
      "text/plain": [
       "<AxesSubplot:xlabel='gap_age', ylabel='credit_amount'>"
      ]
     },
     "execution_count": 225,
     "metadata": {},
     "output_type": "execute_result"
    },
    {
     "data": {
      "image/png": "[encoded data removed]",
      "text/plain": [
       "<Figure size 1152x360 with 1 Axes>"
      ]
     },
     "metadata": {},
     "output_type": "display_data"
    }
   ],
   "source": [
    "plt.figure(figsize = (16, 5))\n",
    "sns.stripplot(x = \"gap_age\", y = \"credit_amount\", data = df)"
   ]
  },
  {
   "cell_type": "markdown",
   "metadata": {},
   "source": [
    "Возраст слабо как то влияет на сумму кредита, по крайней мере визуально"
   ]
  },
  {
   "cell_type": "code",
   "execution_count": 226,
   "metadata": {
    "execution": {
     "iopub.execute_input": "2020-08-27T15:32:53.533752Z",
     "iopub.status.busy": "2020-08-27T15:32:53.532958Z",
     "iopub.status.idle": "2020-08-27T15:32:54.271400Z",
     "shell.execute_reply": "2020-08-27T15:32:54.270808Z"
    },
    "papermill": {
     "duration": 0.774858,
     "end_time": "2020-08-27T15:32:54.271527",
     "exception": false,
     "start_time": "2020-08-27T15:32:53.496669",
     "status": "completed"
    },
    "tags": []
   },
   "outputs": [
    {
     "name": "stderr",
     "output_type": "stream",
     "text": [
      "C:\\Anaconda\\lib\\site-packages\\seaborn\\axisgrid.py:670: UserWarning: Using the pointplot function without specifying `order` is likely to produce an incorrect plot.\n",
      "  warnings.warn(warning)\n",
      "C:\\Anaconda\\lib\\site-packages\\seaborn\\axisgrid.py:675: UserWarning: Using the pointplot function without specifying `hue_order` is likely to produce an incorrect plot.\n",
      "  warnings.warn(warning)\n"
     ]
    },
    {
     "data": {
      "image/png": "[encoded data removed]",
      "text/plain": [
       "<Figure size 936.85x288 with 2 Axes>"
      ]
     },
     "metadata": {},
     "output_type": "display_data"
    }
   ],
   "source": [
    "sns.FacetGrid(data=df,col=\"risk\",aspect=1.5,height=4).map(sns.pointplot,\"gap_age\",\"credit_amount\",\"sex\",palette=[\"#FF7659\",\"#30AB55\"],ci=None).add_legend();"
   ]
  },
  {
   "cell_type": "markdown",
   "metadata": {},
   "source": [
    "Люди с плохим риском берут большие суммы кредита, по крайней мере после 40 лет. Причем люди с хорошим риском, чем старше, тем берут меньшие суммы, а с плохим - чем старше, тем больше берут, вне зависимости от пола. "
   ]
  },
  {
   "cell_type": "markdown",
   "metadata": {},
   "source": [
    "### Корреляционная матрица"
   ]
  },
  {
   "cell_type": "code",
   "execution_count": 227,
   "metadata": {
    "execution": {
     "iopub.execute_input": "2020-08-27T15:32:54.338541Z",
     "iopub.status.busy": "2020-08-27T15:32:54.337715Z",
     "iopub.status.idle": "2020-08-27T15:32:54.657320Z",
     "shell.execute_reply": "2020-08-27T15:32:54.656603Z"
    },
    "papermill": {
     "duration": 0.35664,
     "end_time": "2020-08-27T15:32:54.657462",
     "exception": false,
     "start_time": "2020-08-27T15:32:54.300822",
     "status": "completed"
    },
    "scrolled": true,
    "tags": []
   },
   "outputs": [
    {
     "data": {
      "image/png": "[encoded data removed]",
      "text/plain": [
       "<Figure size 612x396 with 2 Axes>"
      ]
     },
     "metadata": {},
     "output_type": "display_data"
    }
   ],
   "source": [
    "plt.figure(figsize=(8.5,5.5))\n",
    "corr = sns.heatmap(df.corr(),xticklabels=df.corr().columns,yticklabels=df.corr().columns,annot=True)"
   ]
  },
  {
   "cell_type": "markdown",
   "metadata": {},
   "source": [
    "Впринципе выводил в самом начале, но в виде фрейма. Здесь положительная зависимость между дюрацией и суммой кредита, что логично. Также чем выше сумма кредита, тем больше в месяц нужно платить, что также логично."
   ]
  },
  {
   "cell_type": "markdown",
   "metadata": {},
   "source": [
    "## Сохраним"
   ]
  },
  {
   "cell_type": "code",
   "execution_count": 229,
   "metadata": {},
   "outputs": [],
   "source": [
    "df.to_csv(\"german_data_01.csv\")"
   ]
  }
 ],
 "metadata": {
  "kernelspec": {
   "display_name": "Python 3 (ipykernel)",
   "language": "python",
   "name": "python3"
  },
  "language_info": {
   "codemirror_mode": {
    "name": "ipython",
    "version": 3
   },
   "file_extension": ".py",
   "mimetype": "text/x-python",
   "name": "python",
   "nbconvert_exporter": "python",
   "pygments_lexer": "ipython3",
   "version": "3.9.7"
  },
  "papermill": {
   "duration": 37.344536,
   "end_time": "2020-08-27T15:33:11.191683",
   "environment_variables": {},
   "exception": null,
   "input_path": "__notebook__.ipynb",
   "output_path": "__notebook__.ipynb",
   "parameters": {},
   "start_time": "2020-08-27T15:32:33.847147",
   "version": "2.1.0"
  }
 },
 "nbformat": 4,
 "nbformat_minor": 4
}
